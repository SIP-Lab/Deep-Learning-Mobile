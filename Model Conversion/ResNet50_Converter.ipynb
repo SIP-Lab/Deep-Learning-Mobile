{
 "cells": [
  {
   "cell_type": "markdown",
   "metadata": {},
   "source": [
    "## Load all the Python Libraries Required"
   ]
  },
  {
   "cell_type": "code",
   "execution_count": 1,
   "metadata": {},
   "outputs": [
    {
     "name": "stderr",
     "output_type": "stream",
     "text": [
      "Using TensorFlow backend.\n",
      "WARNING:root:TensorFlow version 1.12.0 detected. Last version known to be fully compatible is 1.5.0 .\n"
     ]
    }
   ],
   "source": [
    "import tensorflow as tf\n",
    "from tensorflow.keras.layers import Input\n",
    "from keras.applications.resnet50 import ResNet50\n",
    "import keras.backend as K\n",
    "from tensorflow.python.framework import graph_util, graph_io\n",
    "import coremltools"
   ]
  },
  {
   "cell_type": "markdown",
   "metadata": {},
   "source": [
    "### Set the learning phase using the backend as False and load the model"
   ]
  },
  {
   "cell_type": "code",
   "execution_count": 2,
   "metadata": {},
   "outputs": [],
   "source": [
    "K.set_learning_phase(False)\n",
    "\n",
    "# Load the model with the weights trained on Imagenet \n",
    "model = ResNet50(weights='imagenet',include_top=True)"
   ]
  },
  {
   "cell_type": "markdown",
   "metadata": {},
   "source": [
    "### Convert the model into a coreml model"
   ]
  },
  {
   "cell_type": "code",
   "execution_count": 3,
   "metadata": {
    "scrolled": true
   },
   "outputs": [
    {
     "name": "stdout",
     "output_type": "stream",
     "text": [
      "Output name length mismatch\n",
      "0 : input_1, <keras.engine.topology.InputLayer object at 0xb2b5568d0>\n",
      "1 : conv1_pad, <keras.layers.convolutional.ZeroPadding2D object at 0xd2babccc0>\n",
      "2 : conv1, <keras.layers.convolutional.Conv2D object at 0xd2babca90>\n",
      "3 : bn_conv1, <keras.layers.normalization.BatchNormalization object at 0xd2babceb8>\n",
      "4 : activation_1, <keras.layers.core.Activation object at 0xd2babcf28>\n",
      "5 : max_pooling2d_1, <keras.layers.pooling.MaxPooling2D object at 0x10bf78cf8>\n",
      "6 : res2a_branch2a, <keras.layers.convolutional.Conv2D object at 0xd2bae4630>\n",
      "7 : bn2a_branch2a, <keras.layers.normalization.BatchNormalization object at 0xd2bb78828>\n",
      "8 : activation_2, <keras.layers.core.Activation object at 0xd2bc0c588>\n",
      "9 : res2a_branch2b, <keras.layers.convolutional.Conv2D object at 0xd2bc38358>\n",
      "10 : bn2a_branch2b, <keras.layers.normalization.BatchNormalization object at 0xd2bc38400>\n",
      "11 : activation_3, <keras.layers.core.Activation object at 0xd2bc78f98>\n",
      "12 : res2a_branch2c, <keras.layers.convolutional.Conv2D object at 0xd2bd42668>\n",
      "13 : res2a_branch1, <keras.layers.convolutional.Conv2D object at 0xd2bd83e80>\n",
      "14 : bn2a_branch2c, <keras.layers.normalization.BatchNormalization object at 0xd2bd42710>\n",
      "15 : bn2a_branch1, <keras.layers.normalization.BatchNormalization object at 0xd2be544a8>\n",
      "16 : add_1, <keras.layers.merge.Add object at 0xd2bee42b0>\n",
      "17 : activation_4, <keras.layers.core.Activation object at 0xd2bf506a0>\n",
      "18 : res2b_branch2a, <keras.layers.convolutional.Conv2D object at 0xd2bf50668>\n",
      "19 : bn2b_branch2a, <keras.layers.normalization.BatchNormalization object at 0xd2bf80f28>\n",
      "20 : activation_5, <keras.layers.core.Activation object at 0xd2bfcdf98>\n",
      "21 : res2b_branch2b, <keras.layers.convolutional.Conv2D object at 0xd2c05d6d8>\n",
      "22 : bn2b_branch2b, <keras.layers.normalization.BatchNormalization object at 0xd2c08c1d0>\n",
      "23 : activation_6, <keras.layers.core.Activation object at 0xd2c15ea58>\n",
      "24 : res2b_branch2c, <keras.layers.convolutional.Conv2D object at 0xd2c19a550>\n",
      "25 : bn2b_branch2c, <keras.layers.normalization.BatchNormalization object at 0xd2c19a5f8>\n",
      "26 : add_2, <keras.layers.merge.Add object at 0xd2c1daf60>\n",
      "27 : activation_7, <keras.layers.core.Activation object at 0xd2c2aa400>\n",
      "28 : res2c_branch2a, <keras.layers.convolutional.Conv2D object at 0xd2c2aa3c8>\n",
      "29 : bn2c_branch2a, <keras.layers.normalization.BatchNormalization object at 0xd2c2c5710>\n",
      "30 : activation_8, <keras.layers.core.Activation object at 0xd2c30fc88>\n",
      "31 : res2c_branch2b, <keras.layers.convolutional.Conv2D object at 0xd2c3effd0>\n",
      "32 : bn2c_branch2b, <keras.layers.normalization.BatchNormalization object at 0xd2c3a5908>\n",
      "33 : activation_9, <keras.layers.core.Activation object at 0xd2c41a588>\n",
      "34 : res2c_branch2c, <keras.layers.convolutional.Conv2D object at 0xd2c4af828>\n",
      "35 : bn2c_branch2c, <keras.layers.normalization.BatchNormalization object at 0xd2c4e3208>\n",
      "36 : add_3, <keras.layers.merge.Add object at 0xd2c51ffd0>\n",
      "37 : activation_10, <keras.layers.core.Activation object at 0xd2c5ed780>\n",
      "38 : res3a_branch2a, <keras.layers.convolutional.Conv2D object at 0xd2c5ed7f0>\n",
      "39 : bn3a_branch2a, <keras.layers.normalization.BatchNormalization object at 0xd2c6114a8>\n",
      "40 : activation_11, <keras.layers.core.Activation object at 0xd2c65b9e8>\n",
      "41 : res3a_branch2b, <keras.layers.convolutional.Conv2D object at 0xd2c6ffb00>\n",
      "42 : bn3a_branch2b, <keras.layers.normalization.BatchNormalization object at 0xd2c6ff160>\n",
      "43 : activation_12, <keras.layers.core.Activation object at 0xd2c75edd8>\n",
      "44 : res3a_branch2c, <keras.layers.convolutional.Conv2D object at 0xd2c7f65c0>\n",
      "45 : res3a_branch1, <keras.layers.convolutional.Conv2D object at 0xd2c9039b0>\n",
      "46 : bn3a_branch2c, <keras.layers.normalization.BatchNormalization object at 0xd2c826e80>\n",
      "47 : bn3a_branch1, <keras.layers.normalization.BatchNormalization object at 0xd2c934390>\n",
      "48 : add_4, <keras.layers.merge.Add object at 0xd2c974c88>\n",
      "49 : activation_13, <keras.layers.core.Activation object at 0xd2ca436a0>\n",
      "50 : res3b_branch2a, <keras.layers.convolutional.Conv2D object at 0xd2ca43710>\n",
      "51 : bn3b_branch2a, <keras.layers.normalization.BatchNormalization object at 0xd2ca85f60>\n",
      "52 : activation_14, <keras.layers.core.Activation object at 0xd2cab0978>\n",
      "53 : res3b_branch2b, <keras.layers.convolutional.Conv2D object at 0xd2cb51ac8>\n",
      "54 : bn3b_branch2b, <keras.layers.normalization.BatchNormalization object at 0xd2cb51128>\n",
      "55 : activation_15, <keras.layers.core.Activation object at 0xd2cbb9e10>\n",
      "56 : res3b_branch2c, <keras.layers.convolutional.Conv2D object at 0xd2cc4de48>\n",
      "57 : bn3b_branch2c, <keras.layers.normalization.BatchNormalization object at 0xd2cc4d518>\n",
      "58 : add_5, <keras.layers.merge.Add object at 0xd2cd58940>\n",
      "59 : activation_16, <keras.layers.core.Activation object at 0xd2cd89320>\n",
      "60 : res3c_branch2a, <keras.layers.convolutional.Conv2D object at 0xd2cd894e0>\n",
      "61 : bn3c_branch2a, <keras.layers.normalization.BatchNormalization object at 0xd2cda8198>\n",
      "62 : activation_17, <keras.layers.core.Activation object at 0xd2cdfe710>\n",
      "63 : res3c_branch2b, <keras.layers.convolutional.Conv2D object at 0xd2ce9ba90>\n",
      "64 : bn3c_branch2b, <keras.layers.normalization.BatchNormalization object at 0xd2ce9b390>\n",
      "65 : activation_18, <keras.layers.core.Activation object at 0xd2cf039b0>\n",
      "66 : res3c_branch2c, <keras.layers.convolutional.Conv2D object at 0xd2cff4e10>\n",
      "67 : bn3c_branch2c, <keras.layers.normalization.BatchNormalization object at 0xd2cfa6780>\n",
      "68 : add_6, <keras.layers.merge.Add object at 0xd2d01c400>\n",
      "69 : activation_19, <keras.layers.core.Activation object at 0xd2d0df198>\n",
      "70 : res3d_branch2a, <keras.layers.convolutional.Conv2D object at 0xd2d0df080>\n",
      "71 : bn3d_branch2a, <keras.layers.normalization.BatchNormalization object at 0xd2d0dfe10>\n",
      "72 : activation_20, <keras.layers.core.Activation object at 0xd2d14f4e0>\n",
      "73 : res3d_branch2b, <keras.layers.convolutional.Conv2D object at 0xd2d1ee710>\n",
      "74 : bn3d_branch2b, <keras.layers.normalization.BatchNormalization object at 0xd2d1ee7b8>\n",
      "75 : activation_21, <keras.layers.core.Activation object at 0xd2d27df60>\n",
      "76 : res3d_branch2c, <keras.layers.convolutional.Conv2D object at 0xd2d2ffa20>\n",
      "77 : bn3d_branch2c, <keras.layers.normalization.BatchNormalization object at 0xd2d2ff048>\n",
      "78 : add_7, <keras.layers.merge.Add object at 0xd2d3376d8>\n",
      "79 : activation_22, <keras.layers.core.Activation object at 0xd2d3f98d0>\n",
      "80 : res4a_branch2a, <keras.layers.convolutional.Conv2D object at 0xd2d3f9400>\n",
      "81 : bn4a_branch2a, <keras.layers.normalization.BatchNormalization object at 0xd2d443f28>\n",
      "82 : activation_23, <keras.layers.core.Activation object at 0xd2d504978>\n",
      "83 : res4a_branch2b, <keras.layers.convolutional.Conv2D object at 0xd2d536470>\n",
      "84 : bn4a_branch2b, <keras.layers.normalization.BatchNormalization object at 0xd2d536518>\n",
      "85 : activation_24, <keras.layers.core.Activation object at 0xd2d575fd0>\n",
      "86 : res4a_branch2c, <keras.layers.convolutional.Conv2D object at 0xd2d6469e8>\n",
      "87 : res4a_branch1, <keras.layers.convolutional.Conv2D object at 0xd2d6b1978>\n",
      "88 : bn4a_branch2c, <keras.layers.normalization.BatchNormalization object at 0xd2d6462e8>\n",
      "89 : bn4a_branch1, <keras.layers.normalization.BatchNormalization object at 0xd2d73e6a0>\n",
      "90 : add_8, <keras.layers.merge.Add object at 0xd2d7b4f60>\n",
      "91 : activation_25, <keras.layers.core.Activation object at 0xd2d87f320>\n",
      "92 : res4b_branch2a, <keras.layers.convolutional.Conv2D object at 0xd2d87f208>\n",
      "93 : bn4b_branch2a, <keras.layers.normalization.BatchNormalization object at 0xd2d89c160>\n",
      "94 : activation_26, <keras.layers.core.Activation object at 0xd2d8f06a0>\n",
      "95 : res4b_branch2b, <keras.layers.convolutional.Conv2D object at 0xd2d9c8da0>\n",
      "96 : bn4b_branch2b, <keras.layers.normalization.BatchNormalization object at 0xd2d98b748>\n",
      "97 : activation_27, <keras.layers.core.Activation object at 0xd2d9ef908>\n",
      "98 : res4b_branch2c, <keras.layers.convolutional.Conv2D object at 0xd2da84630>\n",
      "99 : bn4b_branch2c, <keras.layers.normalization.BatchNormalization object at 0xd2dab6128>\n",
      "100 : add_9, <keras.layers.merge.Add object at 0xd2db89a20>\n",
      "101 : activation_28, <keras.layers.core.Activation object at 0xd2dbc4400>\n",
      "102 : res4c_branch2a, <keras.layers.convolutional.Conv2D object at 0xd2dbc45c0>\n",
      "103 : bn4c_branch2a, <keras.layers.normalization.BatchNormalization object at 0xd2dbe52b0>\n",
      "104 : activation_29, <keras.layers.core.Activation object at 0xd2dc51fd0>\n",
      "105 : res4c_branch2b, <keras.layers.convolutional.Conv2D object at 0xd2dd0efd0>\n"
     ]
    },
    {
     "name": "stdout",
     "output_type": "stream",
     "text": [
      "106 : bn4c_branch2b, <keras.layers.normalization.BatchNormalization object at 0xd2dcc1940>\n",
      "107 : activation_30, <keras.layers.core.Activation object at 0xd2dd38588>\n",
      "108 : res4c_branch2c, <keras.layers.convolutional.Conv2D object at 0xd2ddcf828>\n",
      "109 : bn4c_branch2c, <keras.layers.normalization.BatchNormalization object at 0xd2de03208>\n",
      "110 : add_10, <keras.layers.merge.Add object at 0xd2de3ef98>\n",
      "111 : activation_31, <keras.layers.core.Activation object at 0xd2df0c748>\n",
      "112 : res4d_branch2a, <keras.layers.convolutional.Conv2D object at 0xd2df0c7b8>\n",
      "113 : bn4d_branch2a, <keras.layers.normalization.BatchNormalization object at 0xd2df49eb8>\n",
      "114 : activation_32, <keras.layers.core.Activation object at 0xd2df77a20>\n",
      "115 : res4d_branch2b, <keras.layers.convolutional.Conv2D object at 0xd2e00a668>\n",
      "116 : bn4d_branch2b, <keras.layers.normalization.BatchNormalization object at 0xd2e038160>\n",
      "117 : activation_33, <keras.layers.core.Activation object at 0xd2e10a9e8>\n",
      "118 : res4d_branch2c, <keras.layers.convolutional.Conv2D object at 0xd2e1484e0>\n",
      "119 : bn4d_branch2c, <keras.layers.normalization.BatchNormalization object at 0xd2e148588>\n",
      "120 : add_11, <keras.layers.merge.Add object at 0xd2e188cc0>\n",
      "121 : activation_34, <keras.layers.core.Activation object at 0xd2e256358>\n",
      "122 : res4e_branch2a, <keras.layers.convolutional.Conv2D object at 0xd2e256320>\n",
      "123 : bn4e_branch2a, <keras.layers.normalization.BatchNormalization object at 0xd2e273668>\n",
      "124 : activation_35, <keras.layers.core.Activation object at 0xd2e2c2be0>\n",
      "125 : res4e_branch2b, <keras.layers.convolutional.Conv2D object at 0xd2e34f7f0>\n",
      "126 : bn4e_branch2b, <keras.layers.normalization.BatchNormalization object at 0xd2e3831d0>\n",
      "127 : activation_36, <keras.layers.core.Activation object at 0xd2e3bef98>\n",
      "128 : res4e_branch2c, <keras.layers.convolutional.Conv2D object at 0xd2e48b710>\n",
      "129 : bn4e_branch2c, <keras.layers.normalization.BatchNormalization object at 0xd2e48b7b8>\n",
      "130 : add_12, <keras.layers.merge.Add object at 0xd2e51df98>\n",
      "131 : activation_37, <keras.layers.core.Activation object at 0xd2e599550>\n",
      "132 : res4f_branch2a, <keras.layers.convolutional.Conv2D object at 0xd2e599080>\n",
      "133 : bn4f_branch2a, <keras.layers.normalization.BatchNormalization object at 0xd2e5b9e48>\n",
      "134 : activation_38, <keras.layers.core.Activation object at 0xd2e6969e8>\n",
      "135 : res4f_branch2b, <keras.layers.convolutional.Conv2D object at 0xd2e6c74e0>\n",
      "136 : bn4f_branch2b, <keras.layers.normalization.BatchNormalization object at 0xd2e6c7588>\n",
      "137 : activation_39, <keras.layers.core.Activation object at 0xd2e707cf8>\n",
      "138 : res4f_branch2c, <keras.layers.convolutional.Conv2D object at 0xd2e7d6a58>\n",
      "139 : bn4f_branch2c, <keras.layers.normalization.BatchNormalization object at 0xd2e7d6358>\n",
      "140 : add_13, <keras.layers.merge.Add object at 0xd2e841940>\n",
      "141 : activation_40, <keras.layers.core.Activation object at 0xd2e8cd710>\n",
      "142 : res5a_branch2a, <keras.layers.convolutional.Conv2D object at 0xd2e8cd240>\n",
      "143 : bn5a_branch2a, <keras.layers.normalization.BatchNormalization object at 0xd2e91edd8>\n",
      "144 : activation_41, <keras.layers.core.Activation object at 0xd2e944f60>\n",
      "145 : res5a_branch2b, <keras.layers.convolutional.Conv2D object at 0xd2ea0e748>\n",
      "146 : bn5a_branch2b, <keras.layers.normalization.BatchNormalization object at 0xd2ea0e7f0>\n",
      "147 : activation_42, <keras.layers.core.Activation object at 0xd2ea9df60>\n",
      "148 : res5a_branch2c, <keras.layers.convolutional.Conv2D object at 0xd2eb1da20>\n",
      "149 : res5a_branch1, <keras.layers.convolutional.Conv2D object at 0xd2eb83dd8>\n",
      "150 : bn5a_branch2c, <keras.layers.normalization.BatchNormalization object at 0xd2eb1d048>\n",
      "151 : bn5a_branch1, <keras.layers.normalization.BatchNormalization object at 0xd2ec19908>\n",
      "152 : add_14, <keras.layers.merge.Add object at 0xd2edaaf98>\n",
      "153 : activation_43, <keras.layers.core.Activation object at 0xd2ede7470>\n",
      "154 : res5b_branch2a, <keras.layers.convolutional.Conv2D object at 0xd2ede7630>\n",
      "155 : bn5b_branch2a, <keras.layers.normalization.BatchNormalization object at 0xd2ee082e8>\n",
      "156 : activation_44, <keras.layers.core.Activation object at 0xd2ee76fd0>\n",
      "157 : res5b_branch2b, <keras.layers.convolutional.Conv2D object at 0xd2ef30da0>\n",
      "158 : bn5b_branch2b, <keras.layers.normalization.BatchNormalization object at 0xd2eee3978>\n",
      "159 : activation_45, <keras.layers.core.Activation object at 0xd2eff1898>\n",
      "160 : res5b_branch2c, <keras.layers.convolutional.Conv2D object at 0xd2f023390>\n",
      "161 : bn5b_branch2c, <keras.layers.normalization.BatchNormalization object at 0xd2f023438>\n",
      "162 : add_15, <keras.layers.merge.Add object at 0xd2f062f98>\n",
      "163 : activation_46, <keras.layers.core.Activation object at 0xd2f133748>\n",
      "164 : res5c_branch2a, <keras.layers.convolutional.Conv2D object at 0xd2f1337b8>\n",
      "165 : bn5c_branch2a, <keras.layers.normalization.BatchNormalization object at 0xd2f171da0>\n",
      "166 : activation_47, <keras.layers.core.Activation object at 0xd2f1a29e8>\n",
      "167 : res5c_branch2b, <keras.layers.convolutional.Conv2D object at 0xd2f22f630>\n",
      "168 : bn5c_branch2b, <keras.layers.normalization.BatchNormalization object at 0xd2f25a128>\n",
      "169 : activation_48, <keras.layers.core.Activation object at 0xd2f32da58>\n",
      "170 : res5c_branch2c, <keras.layers.convolutional.Conv2D object at 0xd2f368550>\n",
      "171 : bn5c_branch2c, <keras.layers.normalization.BatchNormalization object at 0xd2f3685f8>\n",
      "172 : add_16, <keras.layers.merge.Add object at 0xd2f3aaf60>\n",
      "173 : activation_49, <keras.layers.core.Activation object at 0xd2f478400>\n",
      "174 : avg_pool, <keras.layers.pooling.AveragePooling2D object at 0xd2f4783c8>\n",
      "175 : flatten_1, <keras.layers.core.Flatten object at 0xd2f494390>\n",
      "176 : fc1000, <keras.layers.core.Dense object at 0xd2f4e60f0>\n",
      "177 : fc1000__activation__, <keras.layers.core.Activation object at 0xd35f4b278>\n"
     ]
    }
   ],
   "source": [
    "# Convert the loaded Keras model into a CoreML Model\n",
    "# Provide image_input_names to specify it is an image model\n",
    "# also provide the bias values specified by the model\n",
    "mlmodel = coremltools.converters.keras.convert(model, \n",
    "                                               input_names=['image'], \n",
    "                                               image_input_names=['image'],\n",
    "                                               output_names=['classLabelProbs', 'classLabel'],\n",
    "                                               class_labels='labels.txt', \n",
    "                                               blue_bias=-123.68,\n",
    "                                               green_bias=-116.779,\n",
    "                                               red_bias=-103.939)"
   ]
  },
  {
   "cell_type": "markdown",
   "metadata": {},
   "source": [
    "### Save the model as a .mlmodel file which can be deployed"
   ]
  },
  {
   "cell_type": "code",
   "execution_count": 4,
   "metadata": {},
   "outputs": [],
   "source": [
    "mlmodel.save('ModelZoo/ResNet50.mlmodel')"
   ]
  },
  {
   "cell_type": "markdown",
   "metadata": {},
   "source": [
    "### Now extract the model using the TensorFlow session to convert it for Android"
   ]
  },
  {
   "cell_type": "code",
   "execution_count": 5,
   "metadata": {},
   "outputs": [
    {
     "name": "stdout",
     "output_type": "stream",
     "text": [
      "INFO:tensorflow:Froze 320 variables.\n"
     ]
    },
    {
     "name": "stderr",
     "output_type": "stream",
     "text": [
      "INFO:tensorflow:Froze 320 variables.\n"
     ]
    },
    {
     "name": "stdout",
     "output_type": "stream",
     "text": [
      "INFO:tensorflow:Converted 320 variables to const ops.\n"
     ]
    },
    {
     "name": "stderr",
     "output_type": "stream",
     "text": [
      "INFO:tensorflow:Converted 320 variables to const ops.\n"
     ]
    },
    {
     "data": {
      "text/plain": [
       "'ModelZoo/ResNet50.pb'"
      ]
     },
     "execution_count": 5,
     "metadata": {},
     "output_type": "execute_result"
    }
   ],
   "source": [
    "S = K.get_session()\n",
    "constant_graph = graph_util.convert_variables_to_constants(S, \n",
    "                                                           S.graph.as_graph_def(),\n",
    "                                                           ['fc1000/Softmax'])\n",
    "graph_io.write_graph(constant_graph, 'ModelZoo/', 'ResNet50.pb', as_text=False)"
   ]
  },
  {
   "cell_type": "markdown",
   "metadata": {},
   "source": [
    "### To convert the model for TensorFlow Lite"
   ]
  },
  {
   "cell_type": "code",
   "execution_count": 6,
   "metadata": {},
   "outputs": [
    {
     "name": "stdout",
     "output_type": "stream",
     "text": [
      "WARNING:tensorflow:No training configuration found in save file: the model was *not* compiled. Compile it manually.\n"
     ]
    },
    {
     "name": "stderr",
     "output_type": "stream",
     "text": [
      "WARNING:tensorflow:No training configuration found in save file: the model was *not* compiled. Compile it manually.\n"
     ]
    },
    {
     "name": "stdout",
     "output_type": "stream",
     "text": [
      "INFO:tensorflow:Froze 320 variables.\n"
     ]
    },
    {
     "name": "stderr",
     "output_type": "stream",
     "text": [
      "INFO:tensorflow:Froze 320 variables.\n"
     ]
    },
    {
     "name": "stdout",
     "output_type": "stream",
     "text": [
      "INFO:tensorflow:Converted 320 variables to const ops.\n"
     ]
    },
    {
     "name": "stderr",
     "output_type": "stream",
     "text": [
      "INFO:tensorflow:Converted 320 variables to const ops.\n"
     ]
    },
    {
     "data": {
      "text/plain": [
       "102144208"
      ]
     },
     "execution_count": 6,
     "metadata": {},
     "output_type": "execute_result"
    }
   ],
   "source": [
    "# To convert the model for tensorflow lite, we can save the keras model\n",
    "# and then convert it into a TensorFlow lite model directly\n",
    "\n",
    "input_tensor = tf.keras.layers.Input(shape=(224,224,3))\n",
    "model = tf.keras.applications.resnet50.ResNet50(\n",
    "    weights='imagenet', input_tensor=input_tensor, include_top=True\n",
    ")\n",
    "\n",
    "keras_file = 'ModelZoo/ResNet50.h5'\n",
    "tf.keras.models.save_model(model, keras_file)\n",
    "\n",
    "converter = tf.contrib.lite.TFLiteConverter.from_keras_model_file(keras_file)\n",
    "tflite_model = converter.convert()\n",
    "open('ModelZoo/'+'ResNet50.tflite', 'wb').write(tflite_model)"
   ]
  },
  {
   "cell_type": "markdown",
   "metadata": {},
   "source": [
    "### Now load the model and get the details of the converted model\n",
    "### These are useful when deploying the models on Android"
   ]
  },
  {
   "cell_type": "code",
   "execution_count": 7,
   "metadata": {},
   "outputs": [
    {
     "name": "stdout",
     "output_type": "stream",
     "text": [
      "[{'name': 'input_1', 'index': 79, 'shape': array([  1, 224, 224,   3], dtype=int32), 'dtype': <class 'numpy.float32'>, 'quantization': (0.0, 0)}] [{'name': 'fc1000/Softmax', 'index': 77, 'shape': array([   1, 1000], dtype=int32), 'dtype': <class 'numpy.float32'>, 'quantization': (0.0, 0)}]\n"
     ]
    }
   ],
   "source": [
    "interpreter = tf.contrib.lite.Interpreter(model_path='ModelZoo/ResNet50.tflite')\n",
    "\n",
    "interpreter.allocate_tensors()\n",
    "\n",
    "input_details = interpreter.get_input_details()\n",
    "output_details = interpreter.get_output_details()\n",
    "print(input_details, output_details)"
   ]
  },
  {
   "cell_type": "code",
   "execution_count": null,
   "metadata": {},
   "outputs": [],
   "source": []
  }
 ],
 "metadata": {
  "kernelspec": {
   "display_name": "Python 3",
   "language": "python",
   "name": "python3"
  },
  "language_info": {
   "codemirror_mode": {
    "name": "ipython",
    "version": 3
   },
   "file_extension": ".py",
   "mimetype": "text/x-python",
   "name": "python",
   "nbconvert_exporter": "python",
   "pygments_lexer": "ipython3",
   "version": "3.6.6"
  }
 },
 "nbformat": 4,
 "nbformat_minor": 2
}
