{
 "cells": [
  {
   "cell_type": "markdown",
   "metadata": {},
   "source": [
    "## Load all the Python Libraries Required"
   ]
  },
  {
   "cell_type": "code",
   "execution_count": 1,
   "metadata": {},
   "outputs": [
    {
     "name": "stderr",
     "output_type": "stream",
     "text": [
      "Using TensorFlow backend.\n",
      "WARNING:root:TensorFlow version 1.12.0 detected. Last version known to be fully compatible is 1.5.0 .\n"
     ]
    }
   ],
   "source": [
    "import tensorflow as tf\n",
    "from tensorflow.keras.layers import Input\n",
    "from keras.applications.inception_v3 import InceptionV3\n",
    "import keras.backend as K\n",
    "from tensorflow.python.framework import graph_util, graph_io\n",
    "import coremltools"
   ]
  },
  {
   "cell_type": "markdown",
   "metadata": {},
   "source": [
    "### Set the learning phase using the backend as False and load the model"
   ]
  },
  {
   "cell_type": "code",
   "execution_count": 2,
   "metadata": {},
   "outputs": [],
   "source": [
    "K.set_learning_phase(False)\n",
    "\n",
    "# Load the model with the weights trained on Imagenet \n",
    "# and input shape as specified for the model\n",
    "model = InceptionV3(input_shape=(299,299,3), \n",
    "                    weights='imagenet',\n",
    "                    include_top=True)"
   ]
  },
  {
   "cell_type": "markdown",
   "metadata": {},
   "source": [
    "### Convert the model into a coreml model"
   ]
  },
  {
   "cell_type": "code",
   "execution_count": 3,
   "metadata": {
    "scrolled": true
   },
   "outputs": [
    {
     "name": "stdout",
     "output_type": "stream",
     "text": [
      "Output name length mismatch\n",
      "0 : input_1, <keras.engine.topology.InputLayer object at 0xd21612978>\n",
      "1 : conv2d_1, <keras.layers.convolutional.Conv2D object at 0xd21612dd8>\n",
      "2 : batch_normalization_1, <keras.layers.normalization.BatchNormalization object at 0xd21612b00>\n",
      "3 : activation_1, <keras.layers.core.Activation object at 0xd21612d68>\n",
      "4 : conv2d_2, <keras.layers.convolutional.Conv2D object at 0x1024d54e0>\n",
      "5 : batch_normalization_2, <keras.layers.normalization.BatchNormalization object at 0xd21639128>\n",
      "6 : activation_2, <keras.layers.core.Activation object at 0xd216e23c8>\n",
      "7 : conv2d_3, <keras.layers.convolutional.Conv2D object at 0xd217469e8>\n",
      "8 : batch_normalization_3, <keras.layers.normalization.BatchNormalization object at 0xd21746ac8>\n",
      "9 : activation_3, <keras.layers.core.Activation object at 0xd217c59e8>\n",
      "10 : max_pooling2d_1, <keras.layers.pooling.MaxPooling2D object at 0xd218624e0>\n",
      "11 : conv2d_4, <keras.layers.convolutional.Conv2D object at 0xd21823cf8>\n",
      "12 : batch_normalization_4, <keras.layers.normalization.BatchNormalization object at 0xd218a4908>\n",
      "13 : activation_4, <keras.layers.core.Activation object at 0xd218e8ba8>\n",
      "14 : conv2d_5, <keras.layers.convolutional.Conv2D object at 0xd2196ce10>\n",
      "15 : batch_normalization_5, <keras.layers.normalization.BatchNormalization object at 0xd21933978>\n",
      "16 : activation_5, <keras.layers.core.Activation object at 0xd219e34a8>\n",
      "17 : max_pooling2d_2, <keras.layers.pooling.MaxPooling2D object at 0xd21a47ac8>\n",
      "18 : conv2d_9, <keras.layers.convolutional.Conv2D object at 0xd21d4eb70>\n",
      "19 : batch_normalization_9, <keras.layers.normalization.BatchNormalization object at 0xd21d4ec50>\n",
      "20 : activation_9, <keras.layers.core.Activation object at 0xd21d98e80>\n",
      "21 : conv2d_7, <keras.layers.convolutional.Conv2D object at 0xd21b53358>\n",
      "22 : conv2d_10, <keras.layers.convolutional.Conv2D object at 0xd21e59588>\n",
      "23 : batch_normalization_7, <keras.layers.normalization.BatchNormalization object at 0xd21b536a0>\n",
      "24 : batch_normalization_10, <keras.layers.normalization.BatchNormalization object at 0xd21dcdfd0>\n",
      "25 : activation_7, <keras.layers.core.Activation object at 0xd21b7eb00>\n",
      "26 : activation_10, <keras.layers.core.Activation object at 0xd21edd438>\n",
      "27 : average_pooling2d_1, <keras.layers.pooling.AveragePooling2D object at 0xd220518d0>\n",
      "28 : conv2d_6, <keras.layers.convolutional.Conv2D object at 0xd21a47e80>\n",
      "29 : conv2d_8, <keras.layers.convolutional.Conv2D object at 0xd21c74e80>\n",
      "30 : conv2d_11, <keras.layers.convolutional.Conv2D object at 0xd21f93cf8>\n",
      "31 : conv2d_12, <keras.layers.convolutional.Conv2D object at 0xd22051da0>\n",
      "32 : batch_normalization_6, <keras.layers.normalization.BatchNormalization object at 0xd21a75dd8>\n",
      "33 : batch_normalization_8, <keras.layers.normalization.BatchNormalization object at 0xd21bd00f0>\n",
      "34 : batch_normalization_11, <keras.layers.normalization.BatchNormalization object at 0xd21f3be48>\n",
      "35 : batch_normalization_12, <keras.layers.normalization.BatchNormalization object at 0xd2207cbe0>\n",
      "36 : activation_6, <keras.layers.core.Activation object at 0xd21b0b978>\n",
      "37 : activation_8, <keras.layers.core.Activation object at 0xd21ce82b0>\n",
      "38 : activation_11, <keras.layers.core.Activation object at 0xd21fc2da0>\n",
      "39 : activation_12, <keras.layers.core.Activation object at 0xd220ceeb8>\n",
      "40 : mixed0, <keras.layers.merge.Concatenate object at 0xd22131e80>\n",
      "41 : conv2d_16, <keras.layers.convolutional.Conv2D object at 0xd22439eb8>\n",
      "42 : batch_normalization_16, <keras.layers.normalization.BatchNormalization object at 0xd22465a58>\n",
      "43 : activation_16, <keras.layers.core.Activation object at 0xd224bb908>\n",
      "44 : conv2d_14, <keras.layers.convolutional.Conv2D object at 0xd2223ea90>\n",
      "45 : conv2d_17, <keras.layers.convolutional.Conv2D object at 0xd224e74e0>\n",
      "46 : batch_normalization_14, <keras.layers.normalization.BatchNormalization object at 0xd2223ef60>\n",
      "47 : batch_normalization_17, <keras.layers.normalization.BatchNormalization object at 0xd2259dfd0>\n",
      "48 : activation_14, <keras.layers.core.Activation object at 0xd22304f28>\n",
      "49 : activation_17, <keras.layers.core.Activation object at 0xd225ccef0>\n",
      "50 : average_pooling2d_2, <keras.layers.pooling.AveragePooling2D object at 0xd2277d400>\n",
      "51 : conv2d_13, <keras.layers.convolutional.Conv2D object at 0xd21f77f28>\n",
      "52 : conv2d_15, <keras.layers.convolutional.Conv2D object at 0xd22358c18>\n",
      "53 : conv2d_18, <keras.layers.convolutional.Conv2D object at 0xd22661828>\n",
      "54 : conv2d_19, <keras.layers.convolutional.Conv2D object at 0xd2273dc18>\n",
      "55 : batch_normalization_13, <keras.layers.normalization.BatchNormalization object at 0xd2216ea58>\n",
      "56 : batch_normalization_15, <keras.layers.normalization.BatchNormalization object at 0xd222ef320>\n",
      "57 : batch_normalization_18, <keras.layers.normalization.BatchNormalization object at 0xd22661908>\n",
      "58 : batch_normalization_19, <keras.layers.normalization.BatchNormalization object at 0xd227965c0>\n",
      "59 : activation_13, <keras.layers.core.Activation object at 0xd221df320>\n",
      "60 : activation_15, <keras.layers.core.Activation object at 0xd223daa20>\n",
      "61 : activation_18, <keras.layers.core.Activation object at 0xd226dc9b0>\n",
      "62 : activation_19, <keras.layers.core.Activation object at 0xd227e77b8>\n",
      "63 : mixed1, <keras.layers.merge.Concatenate object at 0xd228a4c88>\n",
      "64 : conv2d_23, <keras.layers.convolutional.Conv2D object at 0xd22bb9f28>\n",
      "65 : batch_normalization_23, <keras.layers.normalization.BatchNormalization object at 0xd22b60e10>\n",
      "66 : activation_23, <keras.layers.core.Activation object at 0xd22c14128>\n",
      "67 : conv2d_21, <keras.layers.convolutional.Conv2D object at 0xd22964a58>\n",
      "68 : conv2d_24, <keras.layers.convolutional.Conv2D object at 0xd22c7e828>\n",
      "69 : batch_normalization_21, <keras.layers.normalization.BatchNormalization object at 0xd22964b38>\n",
      "70 : batch_normalization_24, <keras.layers.normalization.BatchNormalization object at 0xd22be8fd0>\n",
      "71 : activation_21, <keras.layers.core.Activation object at 0xd22a042b0>\n",
      "72 : activation_24, <keras.layers.core.Activation object at 0xd22cfd828>\n",
      "73 : average_pooling2d_3, <keras.layers.pooling.AveragePooling2D object at 0xd22e75b70>\n",
      "74 : conv2d_20, <keras.layers.convolutional.Conv2D object at 0xd2285be48>\n",
      "75 : conv2d_22, <keras.layers.convolutional.Conv2D object at 0xd22a80518>\n",
      "76 : conv2d_25, <keras.layers.convolutional.Conv2D object at 0xd22d9be80>\n",
      "77 : conv2d_26, <keras.layers.convolutional.Conv2D object at 0xd22e75f28>\n",
      "78 : batch_normalization_20, <keras.layers.normalization.BatchNormalization object at 0xd22887eb8>\n",
      "79 : batch_normalization_22, <keras.layers.normalization.BatchNormalization object at 0xd229dff98>\n",
      "80 : batch_normalization_25, <keras.layers.normalization.BatchNormalization object at 0xd22d5ba90>\n",
      "81 : batch_normalization_26, <keras.layers.normalization.BatchNormalization object at 0xd22f53ef0>\n",
      "82 : activation_20, <keras.layers.core.Activation object at 0xd228fe0f0>\n",
      "83 : activation_22, <keras.layers.core.Activation object at 0xd22aff400>\n",
      "84 : activation_25, <keras.layers.core.Activation object at 0xd22e0d2b0>\n",
      "85 : activation_26, <keras.layers.core.Activation object at 0xd22f3c8d0>\n",
      "86 : mixed2, <keras.layers.merge.Concatenate object at 0xd22f80710>\n",
      "87 : conv2d_28, <keras.layers.convolutional.Conv2D object at 0xd230a14a8>\n",
      "88 : batch_normalization_28, <keras.layers.normalization.BatchNormalization object at 0xd2305ff60>\n",
      "89 : activation_28, <keras.layers.core.Activation object at 0xd230e3cf8>\n",
      "90 : conv2d_29, <keras.layers.convolutional.Conv2D object at 0xd2310c4e0>\n",
      "91 : batch_normalization_29, <keras.layers.normalization.BatchNormalization object at 0xd2316ec18>\n",
      "92 : activation_29, <keras.layers.core.Activation object at 0xd231f3da0>\n",
      "93 : conv2d_27, <keras.layers.convolutional.Conv2D object at 0xd22f807f0>\n",
      "94 : conv2d_30, <keras.layers.convolutional.Conv2D object at 0xd23288710>\n",
      "95 : batch_normalization_27, <keras.layers.normalization.BatchNormalization object at 0xd22faea20>\n",
      "96 : batch_normalization_30, <keras.layers.normalization.BatchNormalization object at 0xd232887f0>\n",
      "97 : activation_27, <keras.layers.core.Activation object at 0xd230016d8>\n",
      "98 : activation_30, <keras.layers.core.Activation object at 0xd2330b7f0>\n",
      "99 : max_pooling2d_3, <keras.layers.pooling.MaxPooling2D object at 0xd233a4e10>\n",
      "100 : mixed3, <keras.layers.merge.Concatenate object at 0xd23366f60>\n",
      "101 : conv2d_35, <keras.layers.convolutional.Conv2D object at 0xd23789c18>\n",
      "102 : batch_normalization_35, <keras.layers.normalization.BatchNormalization object at 0xd23789cf8>\n",
      "103 : activation_35, <keras.layers.core.Activation object at 0xd2382a080>\n",
      "104 : conv2d_36, <keras.layers.convolutional.Conv2D object at 0xd238936d8>\n"
     ]
    },
    {
     "name": "stdout",
     "output_type": "stream",
     "text": [
      "105 : batch_normalization_36, <keras.layers.normalization.BatchNormalization object at 0xd23801dd8>\n",
      "106 : activation_36, <keras.layers.core.Activation object at 0xd239154a8>\n",
      "107 : conv2d_32, <keras.layers.convolutional.Conv2D object at 0xd234ced68>\n",
      "108 : conv2d_37, <keras.layers.convolutional.Conv2D object at 0xd239b1c50>\n",
      "109 : batch_normalization_32, <keras.layers.normalization.BatchNormalization object at 0xd2347f710>\n",
      "110 : batch_normalization_37, <keras.layers.normalization.BatchNormalization object at 0xd23976dd8>\n",
      "111 : activation_32, <keras.layers.core.Activation object at 0xd234f8e80>\n",
      "112 : activation_37, <keras.layers.core.Activation object at 0xd23a280b8>\n",
      "113 : conv2d_33, <keras.layers.convolutional.Conv2D object at 0xd2358e978>\n",
      "114 : conv2d_38, <keras.layers.convolutional.Conv2D object at 0xd23a8da20>\n",
      "115 : batch_normalization_33, <keras.layers.normalization.BatchNormalization object at 0xd23527438>\n",
      "116 : batch_normalization_38, <keras.layers.normalization.BatchNormalization object at 0xd23a8db00>\n",
      "117 : activation_33, <keras.layers.core.Activation object at 0xd2360d908>\n",
      "118 : activation_38, <keras.layers.core.Activation object at 0xd23b0aa58>\n",
      "119 : average_pooling2d_4, <keras.layers.pooling.AveragePooling2D object at 0xd23cd3cc0>\n",
      "120 : conv2d_31, <keras.layers.convolutional.Conv2D object at 0xd23366c50>\n",
      "121 : conv2d_34, <keras.layers.convolutional.Conv2D object at 0xd236b2358>\n",
      "122 : conv2d_39, <keras.layers.convolutional.Conv2D object at 0xd23bad518>\n",
      "123 : conv2d_40, <keras.layers.convolutional.Conv2D object at 0xd23c7be80>\n",
      "124 : batch_normalization_31, <keras.layers.normalization.BatchNormalization object at 0xd233bd9b0>\n",
      "125 : batch_normalization_34, <keras.layers.normalization.BatchNormalization object at 0xd2366ee10>\n",
      "126 : batch_normalization_39, <keras.layers.normalization.BatchNormalization object at 0xd23b6efd0>\n",
      "127 : batch_normalization_40, <keras.layers.normalization.BatchNormalization object at 0xd23cb7eb8>\n",
      "128 : activation_31, <keras.layers.core.Activation object at 0xd234171d0>\n",
      "129 : activation_34, <keras.layers.core.Activation object at 0xd2371a358>\n",
      "130 : activation_39, <keras.layers.core.Activation object at 0xd23c1a4a8>\n",
      "131 : activation_40, <keras.layers.core.Activation object at 0xd23d2e470>\n",
      "132 : mixed4, <keras.layers.merge.Concatenate object at 0xd23d96a20>\n",
      "133 : conv2d_45, <keras.layers.convolutional.Conv2D object at 0xd241bd518>\n",
      "134 : batch_normalization_45, <keras.layers.normalization.BatchNormalization object at 0xd24181fd0>\n",
      "135 : activation_45, <keras.layers.core.Activation object at 0xd241fed30>\n",
      "136 : conv2d_46, <keras.layers.convolutional.Conv2D object at 0xd2422b518>\n",
      "137 : batch_normalization_46, <keras.layers.normalization.BatchNormalization object at 0xd242e9dd8>\n",
      "138 : activation_46, <keras.layers.core.Activation object at 0xd24314dd8>\n",
      "139 : conv2d_42, <keras.layers.convolutional.Conv2D object at 0xd23eb3630>\n",
      "140 : conv2d_47, <keras.layers.convolutional.Conv2D object at 0xd243aa748>\n",
      "141 : batch_normalization_42, <keras.layers.normalization.BatchNormalization object at 0xd23eb3710>\n",
      "142 : batch_normalization_47, <keras.layers.normalization.BatchNormalization object at 0xd243aa828>\n",
      "143 : activation_42, <keras.layers.core.Activation object at 0xd23ef0ac8>\n",
      "144 : activation_47, <keras.layers.core.Activation object at 0xd24423898>\n",
      "145 : conv2d_43, <keras.layers.convolutional.Conv2D object at 0xd23f227b8>\n",
      "146 : conv2d_48, <keras.layers.convolutional.Conv2D object at 0xd24489b00>\n",
      "147 : batch_normalization_43, <keras.layers.normalization.BatchNormalization object at 0xd23f83fd0>\n",
      "148 : batch_normalization_48, <keras.layers.normalization.BatchNormalization object at 0xd24489f98>\n",
      "149 : activation_43, <keras.layers.core.Activation object at 0xd240370b8>\n",
      "150 : activation_48, <keras.layers.core.Activation object at 0xd24538320>\n",
      "151 : average_pooling2d_5, <keras.layers.pooling.AveragePooling2D object at 0xd24682f28>\n",
      "152 : conv2d_41, <keras.layers.convolutional.Conv2D object at 0xd23d96b00>\n",
      "153 : conv2d_44, <keras.layers.convolutional.Conv2D object at 0xd2409d9e8>\n",
      "154 : conv2d_49, <keras.layers.convolutional.Conv2D object at 0xd2459ebe0>\n",
      "155 : conv2d_50, <keras.layers.convolutional.Conv2D object at 0xd246af4a8>\n",
      "156 : batch_normalization_41, <keras.layers.normalization.BatchNormalization object at 0xd23d96908>\n",
      "157 : batch_normalization_44, <keras.layers.normalization.BatchNormalization object at 0xd2409dac8>\n",
      "158 : batch_normalization_49, <keras.layers.normalization.BatchNormalization object at 0xd2459ecc0>\n",
      "159 : batch_normalization_50, <keras.layers.normalization.BatchNormalization object at 0xd24749ef0>\n",
      "160 : activation_41, <keras.layers.core.Activation object at 0xd23e10978>\n",
      "161 : activation_44, <keras.layers.core.Activation object at 0xd2411ba20>\n",
      "162 : activation_49, <keras.layers.core.Activation object at 0xd24618cc0>\n",
      "163 : activation_50, <keras.layers.core.Activation object at 0xd2472f860>\n",
      "164 : mixed5, <keras.layers.merge.Concatenate object at 0xd24791cc0>\n",
      "165 : conv2d_55, <keras.layers.convolutional.Conv2D object at 0xd24c41ba8>\n",
      "166 : batch_normalization_55, <keras.layers.normalization.BatchNormalization object at 0xd24c41c88>\n",
      "167 : activation_55, <keras.layers.core.Activation object at 0xd24d51668>\n",
      "168 : conv2d_56, <keras.layers.convolutional.Conv2D object at 0xd24cb9d30>\n",
      "169 : batch_normalization_56, <keras.layers.normalization.BatchNormalization object at 0xd24cb9d68>\n",
      "170 : activation_56, <keras.layers.core.Activation object at 0xd24dd74a8>\n",
      "171 : conv2d_52, <keras.layers.convolutional.Conv2D object at 0xd24981fd0>\n",
      "172 : conv2d_57, <keras.layers.convolutional.Conv2D object at 0xd24e8ad30>\n",
      "173 : batch_normalization_52, <keras.layers.normalization.BatchNormalization object at 0xd24938e10>\n",
      "174 : batch_normalization_57, <keras.layers.normalization.BatchNormalization object at 0xd24e36ac8>\n",
      "175 : activation_52, <keras.layers.core.Activation object at 0xd249e0208>\n",
      "176 : activation_57, <keras.layers.core.Activation object at 0xd24ee7400>\n",
      "177 : conv2d_53, <keras.layers.convolutional.Conv2D object at 0xd24a4a860>\n",
      "178 : conv2d_58, <keras.layers.convolutional.Conv2D object at 0xd24f4e908>\n",
      "179 : batch_normalization_53, <keras.layers.normalization.BatchNormalization object at 0xd249b3c88>\n",
      "180 : batch_normalization_58, <keras.layers.normalization.BatchNormalization object at 0xd24f4e9e8>\n",
      "181 : activation_53, <keras.layers.core.Activation object at 0xd24aca860>\n",
      "182 : activation_58, <keras.layers.core.Activation object at 0xd24fcc9e8>\n",
      "183 : average_pooling2d_6, <keras.layers.pooling.AveragePooling2D object at 0xd25192fd0>\n",
      "184 : conv2d_51, <keras.layers.convolutional.Conv2D object at 0xd24791c88>\n",
      "185 : conv2d_54, <keras.layers.convolutional.Conv2D object at 0xd24b2bac8>\n",
      "186 : conv2d_59, <keras.layers.convolutional.Conv2D object at 0xd2506c4e0>\n",
      "187 : conv2d_60, <keras.layers.convolutional.Conv2D object at 0xd2513de10>\n",
      "188 : batch_normalization_51, <keras.layers.normalization.BatchNormalization object at 0xd247e6d68>\n",
      "189 : batch_normalization_54, <keras.layers.normalization.BatchNormalization object at 0xd24b2bf60>\n",
      "190 : batch_normalization_59, <keras.layers.normalization.BatchNormalization object at 0xd2502bf98>\n",
      "191 : batch_normalization_60, <keras.layers.normalization.BatchNormalization object at 0xd25179e10>\n",
      "192 : activation_51, <keras.layers.core.Activation object at 0xd248d46d8>\n",
      "193 : activation_54, <keras.layers.core.Activation object at 0xd24bdb2e8>\n",
      "194 : activation_59, <keras.layers.core.Activation object at 0xd250d64e0>\n",
      "195 : activation_60, <keras.layers.core.Activation object at 0xd251ee2e8>\n",
      "196 : mixed6, <keras.layers.merge.Concatenate object at 0xd252589b0>\n",
      "197 : conv2d_65, <keras.layers.convolutional.Conv2D object at 0xd2567e4a8>\n",
      "198 : batch_normalization_65, <keras.layers.normalization.BatchNormalization object at 0xd2563df60>\n",
      "199 : activation_65, <keras.layers.core.Activation object at 0xd256c1cc0>\n",
      "200 : conv2d_66, <keras.layers.convolutional.Conv2D object at 0xd256e94a8>\n",
      "201 : batch_normalization_66, <keras.layers.normalization.BatchNormalization object at 0xd2574cbe0>\n",
      "202 : activation_66, <keras.layers.core.Activation object at 0xd257d5d68>\n",
      "203 : conv2d_62, <keras.layers.convolutional.Conv2D object at 0xd252d4f28>\n"
     ]
    },
    {
     "name": "stdout",
     "output_type": "stream",
     "text": [
      "204 : conv2d_67, <keras.layers.convolutional.Conv2D object at 0xd258676d8>\n",
      "205 : batch_normalization_62, <keras.layers.normalization.BatchNormalization object at 0xd25370ac8>\n",
      "206 : batch_normalization_67, <keras.layers.normalization.BatchNormalization object at 0xd258677b8>\n",
      "207 : activation_62, <keras.layers.core.Activation object at 0xd253b2be0>\n",
      "208 : activation_67, <keras.layers.core.Activation object at 0xd258e7828>\n",
      "209 : conv2d_63, <keras.layers.convolutional.Conv2D object at 0xd253e2748>\n",
      "210 : conv2d_68, <keras.layers.convolutional.Conv2D object at 0xd25988e80>\n",
      "211 : batch_normalization_63, <keras.layers.normalization.BatchNormalization object at 0xd2549cda0>\n",
      "212 : batch_normalization_68, <keras.layers.normalization.BatchNormalization object at 0xd25947a90>\n",
      "213 : activation_63, <keras.layers.core.Activation object at 0xd254f9358>\n",
      "214 : activation_68, <keras.layers.core.Activation object at 0xd259fb2b0>\n",
      "215 : average_pooling2d_7, <keras.layers.pooling.AveragePooling2D object at 0xd25b42eb8>\n",
      "216 : conv2d_61, <keras.layers.convolutional.Conv2D object at 0xd25258898>\n",
      "217 : conv2d_64, <keras.layers.convolutional.Conv2D object at 0xd2555e978>\n",
      "218 : conv2d_69, <keras.layers.convolutional.Conv2D object at 0xd25a5fb70>\n",
      "219 : conv2d_70, <keras.layers.convolutional.Conv2D object at 0xd25b70438>\n",
      "220 : batch_normalization_61, <keras.layers.normalization.BatchNormalization object at 0xd252818d0>\n",
      "221 : batch_normalization_64, <keras.layers.normalization.BatchNormalization object at 0xd2555ea58>\n",
      "222 : batch_normalization_69, <keras.layers.normalization.BatchNormalization object at 0xd25a5fc50>\n",
      "223 : batch_normalization_70, <keras.layers.normalization.BatchNormalization object at 0xd25c07e80>\n",
      "224 : activation_61, <keras.layers.core.Activation object at 0xd25333fd0>\n",
      "225 : activation_64, <keras.layers.core.Activation object at 0xd255dc9b0>\n",
      "226 : activation_69, <keras.layers.core.Activation object at 0xd25adda20>\n",
      "227 : activation_70, <keras.layers.core.Activation object at 0xd25bf17f0>\n",
      "228 : mixed7, <keras.layers.merge.Concatenate object at 0xd25c4ec50>\n",
      "229 : conv2d_73, <keras.layers.convolutional.Conv2D object at 0xd25e797b8>\n",
      "230 : batch_normalization_73, <keras.layers.normalization.BatchNormalization object at 0xd25e79898>\n",
      "231 : activation_73, <keras.layers.core.Activation object at 0xd25ea4ac8>\n",
      "232 : conv2d_74, <keras.layers.convolutional.Conv2D object at 0xd25f98e10>\n",
      "233 : batch_normalization_74, <keras.layers.normalization.BatchNormalization object at 0xd25ef3080>\n",
      "234 : activation_74, <keras.layers.core.Activation object at 0xd2600d278>\n",
      "235 : conv2d_71, <keras.layers.convolutional.Conv2D object at 0xd25c4efd0>\n",
      "236 : conv2d_75, <keras.layers.convolutional.Conv2D object at 0xd26072b38>\n",
      "237 : batch_normalization_71, <keras.layers.normalization.BatchNormalization object at 0xd25ca5080>\n",
      "238 : batch_normalization_75, <keras.layers.normalization.BatchNormalization object at 0xd26072c18>\n",
      "239 : activation_71, <keras.layers.core.Activation object at 0xd25d04198>\n",
      "240 : activation_75, <keras.layers.core.Activation object at 0xd260f29e8>\n",
      "241 : conv2d_72, <keras.layers.convolutional.Conv2D object at 0xd25db4e80>\n",
      "242 : conv2d_76, <keras.layers.convolutional.Conv2D object at 0xd26154e80>\n",
      "243 : batch_normalization_72, <keras.layers.normalization.BatchNormalization object at 0xd25d68d30>\n",
      "244 : batch_normalization_76, <keras.layers.normalization.BatchNormalization object at 0xd2617fa20>\n",
      "245 : activation_72, <keras.layers.core.Activation object at 0xd25de2e80>\n",
      "246 : activation_76, <keras.layers.core.Activation object at 0xd26200438>\n",
      "247 : max_pooling2d_4, <keras.layers.pooling.MaxPooling2D object at 0xd26260d68>\n",
      "248 : mixed8, <keras.layers.merge.Concatenate object at 0xd26260ef0>\n",
      "249 : conv2d_81, <keras.layers.convolutional.Conv2D object at 0xd266204a8>\n",
      "250 : batch_normalization_81, <keras.layers.normalization.BatchNormalization object at 0xd266b2cc0>\n",
      "251 : activation_81, <keras.layers.core.Activation object at 0xd26723eb8>\n",
      "252 : conv2d_78, <keras.layers.convolutional.Conv2D object at 0xd263c6dd8>\n",
      "253 : conv2d_82, <keras.layers.convolutional.Conv2D object at 0xd267a45f8>\n",
      "254 : batch_normalization_78, <keras.layers.normalization.BatchNormalization object at 0xd263795c0>\n",
      "255 : batch_normalization_82, <keras.layers.normalization.BatchNormalization object at 0xd26701d68>\n",
      "256 : activation_78, <keras.layers.core.Activation object at 0xd2641c128>\n",
      "257 : activation_82, <keras.layers.core.Activation object at 0xd26815470>\n",
      "258 : conv2d_79, <keras.layers.convolutional.Conv2D object at 0xd26489780>\n",
      "259 : conv2d_80, <keras.layers.convolutional.Conv2D object at 0xd265a9cf8>\n",
      "260 : conv2d_83, <keras.layers.convolutional.Conv2D object at 0xd268cdcf8>\n",
      "261 : conv2d_84, <keras.layers.convolutional.Conv2D object at 0xd269918d0>\n",
      "262 : average_pooling2d_8, <keras.layers.pooling.AveragePooling2D object at 0xd26a0ddd8>\n",
      "263 : conv2d_77, <keras.layers.convolutional.Conv2D object at 0xd26324e10>\n",
      "264 : batch_normalization_79, <keras.layers.normalization.BatchNormalization object at 0xd263f1f60>\n",
      "265 : batch_normalization_80, <keras.layers.normalization.BatchNormalization object at 0xd2656dbe0>\n",
      "266 : batch_normalization_83, <keras.layers.normalization.BatchNormalization object at 0xd2687ae80>\n",
      "267 : batch_normalization_84, <keras.layers.normalization.BatchNormalization object at 0xd269919b0>\n",
      "268 : conv2d_85, <keras.layers.convolutional.Conv2D object at 0xd26acc588>\n",
      "269 : batch_normalization_77, <keras.layers.normalization.BatchNormalization object at 0xd2629bfd0>\n",
      "270 : activation_79, <keras.layers.core.Activation object at 0xd26509780>\n",
      "271 : activation_80, <keras.layers.core.Activation object at 0xd26631e10>\n",
      "272 : activation_83, <keras.layers.core.Activation object at 0xd268feda0>\n",
      "273 : activation_84, <keras.layers.core.Activation object at 0xd26a2ff28>\n",
      "274 : batch_normalization_85, <keras.layers.normalization.BatchNormalization object at 0xd26accb00>\n",
      "275 : activation_77, <keras.layers.core.Activation object at 0xd263134a8>\n",
      "276 : mixed9_0, <keras.layers.merge.Concatenate object at 0xd26682b00>\n",
      "277 : concatenate_1, <keras.layers.merge.Concatenate object at 0xd26ab4390>\n",
      "278 : activation_85, <keras.layers.core.Activation object at 0xd26b1f748>\n",
      "279 : mixed9, <keras.layers.merge.Concatenate object at 0xd26bbdc50>\n",
      "280 : conv2d_90, <keras.layers.convolutional.Conv2D object at 0xd26f51cc0>\n",
      "281 : batch_normalization_90, <keras.layers.normalization.BatchNormalization object at 0xd26fd2b70>\n",
      "282 : activation_90, <keras.layers.core.Activation object at 0xd27044d68>\n",
      "283 : conv2d_87, <keras.layers.convolutional.Conv2D object at 0xd26c9fbe0>\n",
      "284 : conv2d_91, <keras.layers.convolutional.Conv2D object at 0xd270c64a8>\n",
      "285 : batch_normalization_87, <keras.layers.normalization.BatchNormalization object at 0xd26c9fcc0>\n",
      "286 : batch_normalization_91, <keras.layers.normalization.BatchNormalization object at 0xd27023240>\n",
      "287 : activation_87, <keras.layers.core.Activation object at 0xd26d3f048>\n",
      "288 : activation_91, <keras.layers.core.Activation object at 0xd271364e0>\n",
      "289 : conv2d_88, <keras.layers.convolutional.Conv2D object at 0xd26daa6a0>\n",
      "290 : conv2d_89, <keras.layers.convolutional.Conv2D object at 0xd26ec8c50>\n",
      "291 : conv2d_92, <keras.layers.convolutional.Conv2D object at 0xd271f1fd0>\n",
      "292 : conv2d_93, <keras.layers.convolutional.Conv2D object at 0xd272b4828>\n",
      "293 : average_pooling2d_9, <keras.layers.pooling.AveragePooling2D object at 0xd27465e10>\n",
      "294 : conv2d_86, <keras.layers.convolutional.Conv2D object at 0xd26b8be80>\n",
      "295 : batch_normalization_88, <keras.layers.normalization.BatchNormalization object at 0xd26d13da0>\n",
      "296 : batch_normalization_89, <keras.layers.normalization.BatchNormalization object at 0xd26e8ddd8>\n",
      "297 : batch_normalization_92, <keras.layers.normalization.BatchNormalization object at 0xd2719ada0>\n",
      "298 : batch_normalization_93, <keras.layers.normalization.BatchNormalization object at 0xd272b4908>\n",
      "299 : conv2d_94, <keras.layers.convolutional.Conv2D object at 0xd27332940>\n",
      "300 : batch_normalization_86, <keras.layers.normalization.BatchNormalization object at 0xd26b8bfd0>\n",
      "301 : activation_88, <keras.layers.core.Activation object at 0xd26e2c4a8>\n",
      "302 : activation_89, <keras.layers.core.Activation object at 0xd26f0feb8>\n",
      "303 : activation_92, <keras.layers.core.Activation object at 0xd2721eef0>\n",
      "304 : activation_93, <keras.layers.core.Activation object at 0xd272e0b00>\n",
      "305 : batch_normalization_94, <keras.layers.normalization.BatchNormalization object at 0xd2747d470>\n",
      "306 : activation_86, <keras.layers.core.Activation object at 0xd26c374a8>\n",
      "307 : mixed9_1, <keras.layers.merge.Concatenate object at 0xd26fa39b0>\n",
      "308 : concatenate_2, <keras.layers.merge.Concatenate object at 0xd273e1c88>\n",
      "309 : activation_94, <keras.layers.core.Activation object at 0xd274d8630>\n",
      "310 : mixed10, <keras.layers.merge.Concatenate object at 0xd2758bcc0>\n",
      "311 : avg_pool, <keras.layers.pooling.GlobalAveragePooling2D object at 0xd2753eef0>\n",
      "312 : predictions, <keras.layers.core.Dense object at 0xd2753ee80>\n"
     ]
    },
    {
     "name": "stdout",
     "output_type": "stream",
     "text": [
      "313 : predictions__activation__, <keras.layers.core.Activation object at 0xd2dcd7588>\n"
     ]
    }
   ],
   "source": [
    "# Convert the loaded Keras model into a CoreML Model\n",
    "# Provide image_input_names to specify it is an image model\n",
    "# also provide the bias values specified by the model\n",
    "mlmodel = coremltools.converters.keras.convert(model, \n",
    "                                               input_names=['image'], \n",
    "                                               image_input_names=['image'],\n",
    "                                               output_names=['classLabelProbs', 'classLabel'],\n",
    "                                               class_labels='labels.txt', \n",
    "                                               blue_bias=-1,\n",
    "                                               green_bias=-1,\n",
    "                                               red_bias=-1,\n",
    "                                               image_scale=2./255)"
   ]
  },
  {
   "cell_type": "markdown",
   "metadata": {},
   "source": [
    "### Save the model as a .mlmodel file which can be deployed"
   ]
  },
  {
   "cell_type": "code",
   "execution_count": 4,
   "metadata": {},
   "outputs": [],
   "source": [
    "mlmodel.save('ModelZoo/IncpetionV3.mlmodel')"
   ]
  },
  {
   "cell_type": "markdown",
   "metadata": {},
   "source": [
    "### Now extract the model using the TensorFlow session to convert it for Android"
   ]
  },
  {
   "cell_type": "code",
   "execution_count": 5,
   "metadata": {},
   "outputs": [
    {
     "name": "stdout",
     "output_type": "stream",
     "text": [
      "INFO:tensorflow:Froze 378 variables.\n"
     ]
    },
    {
     "name": "stderr",
     "output_type": "stream",
     "text": [
      "INFO:tensorflow:Froze 378 variables.\n"
     ]
    },
    {
     "name": "stdout",
     "output_type": "stream",
     "text": [
      "INFO:tensorflow:Converted 378 variables to const ops.\n"
     ]
    },
    {
     "name": "stderr",
     "output_type": "stream",
     "text": [
      "INFO:tensorflow:Converted 378 variables to const ops.\n"
     ]
    },
    {
     "data": {
      "text/plain": [
       "'ModelZoo/InceptionV3.pb'"
      ]
     },
     "execution_count": 5,
     "metadata": {},
     "output_type": "execute_result"
    }
   ],
   "source": [
    "S = K.get_session()\n",
    "constant_graph = graph_util.convert_variables_to_constants(S, \n",
    "                                                           S.graph.as_graph_def(),\n",
    "                                                           ['predictions/Softmax'])\n",
    "graph_io.write_graph(constant_graph, 'ModelZoo/', 'InceptionV3.pb', as_text=False)"
   ]
  },
  {
   "cell_type": "markdown",
   "metadata": {},
   "source": [
    "### To convert the model for TensorFlow Lite"
   ]
  },
  {
   "cell_type": "code",
   "execution_count": 6,
   "metadata": {},
   "outputs": [
    {
     "name": "stdout",
     "output_type": "stream",
     "text": [
      "WARNING:tensorflow:No training configuration found in save file: the model was *not* compiled. Compile it manually.\n"
     ]
    },
    {
     "name": "stderr",
     "output_type": "stream",
     "text": [
      "WARNING:tensorflow:No training configuration found in save file: the model was *not* compiled. Compile it manually.\n"
     ]
    },
    {
     "name": "stdout",
     "output_type": "stream",
     "text": [
      "INFO:tensorflow:Froze 378 variables.\n"
     ]
    },
    {
     "name": "stderr",
     "output_type": "stream",
     "text": [
      "INFO:tensorflow:Froze 378 variables.\n"
     ]
    },
    {
     "name": "stdout",
     "output_type": "stream",
     "text": [
      "INFO:tensorflow:Converted 378 variables to const ops.\n"
     ]
    },
    {
     "name": "stderr",
     "output_type": "stream",
     "text": [
      "INFO:tensorflow:Converted 378 variables to const ops.\n"
     ]
    },
    {
     "data": {
      "text/plain": [
       "95306148"
      ]
     },
     "execution_count": 6,
     "metadata": {},
     "output_type": "execute_result"
    }
   ],
   "source": [
    "# To convert the model for tensorflow lite, we can save the keras model\n",
    "# and then convert it into a TensorFlow lite model directly\n",
    "\n",
    "input_tensor = tf.keras.layers.Input(shape=(299,299,3))\n",
    "model = tf.keras.applications.inception_v3.InceptionV3(\n",
    "    weights='imagenet', input_tensor=input_tensor, include_top=True\n",
    ")\n",
    "\n",
    "keras_file = 'ModelZoo/InceptionV3.h5'\n",
    "tf.keras.models.save_model(model, keras_file)\n",
    "\n",
    "converter = tf.contrib.lite.TFLiteConverter.from_keras_model_file(keras_file)\n",
    "tflite_model = converter.convert()\n",
    "open('ModelZoo/'+'InceptionV3.tflite', 'wb').write(tflite_model)"
   ]
  },
  {
   "cell_type": "markdown",
   "metadata": {},
   "source": [
    "### Now load the model and get the details of the converted model\n",
    "### These are useful when deploying the models on Android"
   ]
  },
  {
   "cell_type": "code",
   "execution_count": 7,
   "metadata": {},
   "outputs": [
    {
     "name": "stdout",
     "output_type": "stream",
     "text": [
      "[{'name': 'input_1', 'index': 295, 'shape': array([  1, 299, 299,   3], dtype=int32), 'dtype': <class 'numpy.float32'>, 'quantization': (0.0, 0)}] [{'name': 'predictions/Softmax', 'index': 315, 'shape': array([   1, 1000], dtype=int32), 'dtype': <class 'numpy.float32'>, 'quantization': (0.0, 0)}]\n"
     ]
    }
   ],
   "source": [
    "interpreter = tf.contrib.lite.Interpreter(model_path='ModelZoo/InceptionV3.tflite')\n",
    "\n",
    "interpreter.allocate_tensors()\n",
    "\n",
    "input_details = interpreter.get_input_details()\n",
    "output_details = interpreter.get_output_details()\n",
    "print(input_details, output_details)"
   ]
  },
  {
   "cell_type": "code",
   "execution_count": null,
   "metadata": {},
   "outputs": [],
   "source": []
  }
 ],
 "metadata": {
  "kernelspec": {
   "display_name": "Python 3",
   "language": "python",
   "name": "python3"
  },
  "language_info": {
   "codemirror_mode": {
    "name": "ipython",
    "version": 3
   },
   "file_extension": ".py",
   "mimetype": "text/x-python",
   "name": "python",
   "nbconvert_exporter": "python",
   "pygments_lexer": "ipython3",
   "version": "3.6.6"
  }
 },
 "nbformat": 4,
 "nbformat_minor": 2
}
