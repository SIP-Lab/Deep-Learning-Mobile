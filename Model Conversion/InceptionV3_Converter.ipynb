{
 "cells": [
  {
   "cell_type": "markdown",
   "metadata": {},
   "source": [
    "## Load all the Python Libraries Required"
   ]
  },
  {
   "cell_type": "code",
   "execution_count": 1,
   "metadata": {},
   "outputs": [
    {
     "name": "stderr",
     "output_type": "stream",
     "text": [
      "Using TensorFlow backend.\n",
      "WARNING:root:TensorFlow version 1.12.0 detected. Last version known to be fully compatible is 1.5.0 .\n"
     ]
    }
   ],
   "source": [
    "import tensorflow as tf\n",
    "from tensorflow.keras.layers import Input\n",
    "from keras.applications.inception_v3 import InceptionV3\n",
    "import keras.backend as K\n",
    "from tensorflow.python.framework import graph_util, graph_io\n",
    "import coremltools"
   ]
  },
  {
   "cell_type": "markdown",
   "metadata": {},
   "source": [
    "### Set the learning phase using the backend as False and load the model"
   ]
  },
  {
   "cell_type": "code",
   "execution_count": 2,
   "metadata": {},
   "outputs": [],
   "source": [
    "K.set_learning_phase(False)\n",
    "\n",
    "# Load the model with the weights trained on Imagenet \n",
    "# and input shape as specified for the model\n",
    "model = InceptionV3(input_shape=(299,299,3), \n",
    "                    weights='imagenet',\n",
    "                    include_top=True)"
   ]
  },
  {
   "cell_type": "markdown",
   "metadata": {},
   "source": [
    "### Convert the model into a coreml model"
   ]
  },
  {
   "cell_type": "code",
   "execution_count": 3,
   "metadata": {
    "scrolled": true
   },
   "outputs": [
    {
     "name": "stdout",
     "output_type": "stream",
     "text": [
      "0 : input_1, <keras.engine.topology.InputLayer object at 0xd20ba7940>\n",
      "1 : conv2d_1, <keras.layers.convolutional.Conv2D object at 0xd20ba7dd8>\n",
      "2 : batch_normalization_1, <keras.layers.normalization.BatchNormalization object at 0xd20ba7b00>\n",
      "3 : activation_1, <keras.layers.core.Activation object at 0xd20ba7d68>\n",
      "4 : conv2d_2, <keras.layers.convolutional.Conv2D object at 0x10413f9e8>\n",
      "5 : batch_normalization_2, <keras.layers.normalization.BatchNormalization object at 0xd20bcf160>\n",
      "6 : activation_2, <keras.layers.core.Activation object at 0xd20c763c8>\n",
      "7 : conv2d_3, <keras.layers.convolutional.Conv2D object at 0xd20cdb9e8>\n",
      "8 : batch_normalization_3, <keras.layers.normalization.BatchNormalization object at 0xd20cdbac8>\n",
      "9 : activation_3, <keras.layers.core.Activation object at 0xd20d5a9e8>\n",
      "10 : max_pooling2d_1, <keras.layers.pooling.MaxPooling2D object at 0xd20df84e0>\n",
      "11 : conv2d_4, <keras.layers.convolutional.Conv2D object at 0xd20db9cf8>\n",
      "12 : batch_normalization_4, <keras.layers.normalization.BatchNormalization object at 0xd20e39908>\n",
      "13 : activation_4, <keras.layers.core.Activation object at 0xd20e7dba8>\n",
      "14 : conv2d_5, <keras.layers.convolutional.Conv2D object at 0xd20f02e10>\n",
      "15 : batch_normalization_5, <keras.layers.normalization.BatchNormalization object at 0xd20ec9978>\n",
      "16 : activation_5, <keras.layers.core.Activation object at 0xd20f774a8>\n",
      "17 : max_pooling2d_2, <keras.layers.pooling.MaxPooling2D object at 0xd20fdcac8>\n",
      "18 : conv2d_9, <keras.layers.convolutional.Conv2D object at 0xd212e2b70>\n",
      "19 : batch_normalization_9, <keras.layers.normalization.BatchNormalization object at 0xd212e2c50>\n",
      "20 : activation_9, <keras.layers.core.Activation object at 0xd2132ce80>\n",
      "21 : conv2d_7, <keras.layers.convolutional.Conv2D object at 0xd210e7358>\n",
      "22 : conv2d_10, <keras.layers.convolutional.Conv2D object at 0xd213ee588>\n",
      "23 : batch_normalization_7, <keras.layers.normalization.BatchNormalization object at 0xd210e76a0>\n",
      "24 : batch_normalization_10, <keras.layers.normalization.BatchNormalization object at 0xd21361fd0>\n",
      "25 : activation_7, <keras.layers.core.Activation object at 0xd21112b00>\n",
      "26 : activation_10, <keras.layers.core.Activation object at 0xd21470438>\n",
      "27 : average_pooling2d_1, <keras.layers.pooling.AveragePooling2D object at 0xd215e58d0>\n",
      "28 : conv2d_6, <keras.layers.convolutional.Conv2D object at 0xd20fdce80>\n",
      "29 : conv2d_8, <keras.layers.convolutional.Conv2D object at 0xd21208e80>\n",
      "30 : conv2d_11, <keras.layers.convolutional.Conv2D object at 0xd21527cf8>\n",
      "31 : conv2d_12, <keras.layers.convolutional.Conv2D object at 0xd215e5da0>\n",
      "32 : batch_normalization_6, <keras.layers.normalization.BatchNormalization object at 0xd2100add8>\n",
      "33 : batch_normalization_8, <keras.layers.normalization.BatchNormalization object at 0xd211630f0>\n",
      "34 : batch_normalization_11, <keras.layers.normalization.BatchNormalization object at 0xd214cfe48>\n",
      "35 : batch_normalization_12, <keras.layers.normalization.BatchNormalization object at 0xd21610be0>\n",
      "36 : activation_6, <keras.layers.core.Activation object at 0xd210a0978>\n",
      "37 : activation_8, <keras.layers.core.Activation object at 0xd2127c2b0>\n",
      "38 : activation_11, <keras.layers.core.Activation object at 0xd21556da0>\n",
      "39 : activation_12, <keras.layers.core.Activation object at 0xd21662eb8>\n",
      "40 : mixed0, <keras.layers.merge.Concatenate object at 0xd216c6e80>\n",
      "41 : conv2d_16, <keras.layers.convolutional.Conv2D object at 0xd219cfeb8>\n",
      "42 : batch_normalization_16, <keras.layers.normalization.BatchNormalization object at 0xd219faa58>\n",
      "43 : activation_16, <keras.layers.core.Activation object at 0xd21a4f908>\n",
      "44 : conv2d_14, <keras.layers.convolutional.Conv2D object at 0xd217d3a90>\n",
      "45 : conv2d_17, <keras.layers.convolutional.Conv2D object at 0xd21a7b4e0>\n",
      "46 : batch_normalization_14, <keras.layers.normalization.BatchNormalization object at 0xd217d3f60>\n",
      "47 : batch_normalization_17, <keras.layers.normalization.BatchNormalization object at 0xd21b31fd0>\n",
      "48 : activation_14, <keras.layers.core.Activation object at 0xd21897f28>\n",
      "49 : activation_17, <keras.layers.core.Activation object at 0xd21b60ef0>\n",
      "50 : average_pooling2d_2, <keras.layers.pooling.AveragePooling2D object at 0xd21d11400>\n",
      "51 : conv2d_13, <keras.layers.convolutional.Conv2D object at 0xd2150bf28>\n",
      "52 : conv2d_15, <keras.layers.convolutional.Conv2D object at 0xd218ebc18>\n",
      "53 : conv2d_18, <keras.layers.convolutional.Conv2D object at 0xd21bf5828>\n",
      "54 : conv2d_19, <keras.layers.convolutional.Conv2D object at 0xd21cd2c18>\n",
      "55 : batch_normalization_13, <keras.layers.normalization.BatchNormalization object at 0xd21702a58>\n",
      "56 : batch_normalization_15, <keras.layers.normalization.BatchNormalization object at 0xd21884320>\n",
      "57 : batch_normalization_18, <keras.layers.normalization.BatchNormalization object at 0xd21bf5908>\n",
      "58 : batch_normalization_19, <keras.layers.normalization.BatchNormalization object at 0xd21d2a5c0>\n",
      "59 : activation_13, <keras.layers.core.Activation object at 0xd21773320>\n",
      "60 : activation_15, <keras.layers.core.Activation object at 0xd2196ca20>\n",
      "61 : activation_18, <keras.layers.core.Activation object at 0xd21c709b0>\n",
      "62 : activation_19, <keras.layers.core.Activation object at 0xd21d7b7b8>\n",
      "63 : mixed1, <keras.layers.merge.Concatenate object at 0xd21e37c88>\n",
      "64 : conv2d_23, <keras.layers.convolutional.Conv2D object at 0xd2214ef28>\n",
      "65 : batch_normalization_23, <keras.layers.normalization.BatchNormalization object at 0xd220f6e10>\n",
      "66 : activation_23, <keras.layers.core.Activation object at 0xd221a8128>\n",
      "67 : conv2d_21, <keras.layers.convolutional.Conv2D object at 0xd21ef9a58>\n",
      "68 : conv2d_24, <keras.layers.convolutional.Conv2D object at 0xd22213828>\n",
      "69 : batch_normalization_21, <keras.layers.normalization.BatchNormalization object at 0xd21ef9b38>\n",
      "70 : batch_normalization_24, <keras.layers.normalization.BatchNormalization object at 0xd2217cfd0>\n",
      "71 : activation_21, <keras.layers.core.Activation object at 0xd21f982b0>\n",
      "72 : activation_24, <keras.layers.core.Activation object at 0xd22291828>\n",
      "73 : average_pooling2d_3, <keras.layers.pooling.AveragePooling2D object at 0xd2240ab70>\n",
      "74 : conv2d_20, <keras.layers.convolutional.Conv2D object at 0xd21defe48>\n",
      "75 : conv2d_22, <keras.layers.convolutional.Conv2D object at 0xd22014518>\n",
      "76 : conv2d_25, <keras.layers.convolutional.Conv2D object at 0xd22331e80>\n",
      "77 : conv2d_26, <keras.layers.convolutional.Conv2D object at 0xd2240af28>\n",
      "78 : batch_normalization_20, <keras.layers.normalization.BatchNormalization object at 0xd21e1beb8>\n",
      "79 : batch_normalization_22, <keras.layers.normalization.BatchNormalization object at 0xd21f74f98>\n",
      "80 : batch_normalization_25, <keras.layers.normalization.BatchNormalization object at 0xd222f1a90>\n",
      "81 : batch_normalization_26, <keras.layers.normalization.BatchNormalization object at 0xd224e9ef0>\n",
      "82 : activation_20, <keras.layers.core.Activation object at 0xd21e920f0>\n",
      "83 : activation_22, <keras.layers.core.Activation object at 0xd22095400>\n",
      "84 : activation_25, <keras.layers.core.Activation object at 0xd223a32b0>\n",
      "85 : activation_26, <keras.layers.core.Activation object at 0xd224d08d0>\n",
      "86 : mixed2, <keras.layers.merge.Concatenate object at 0xd22514710>\n",
      "87 : conv2d_28, <keras.layers.convolutional.Conv2D object at 0xd226364a8>\n",
      "88 : batch_normalization_28, <keras.layers.normalization.BatchNormalization object at 0xd225f4f60>\n",
      "89 : activation_28, <keras.layers.core.Activation object at 0xd22678cf8>\n",
      "90 : conv2d_29, <keras.layers.convolutional.Conv2D object at 0xd226a14e0>\n",
      "91 : batch_normalization_29, <keras.layers.normalization.BatchNormalization object at 0xd22704c18>\n",
      "92 : activation_29, <keras.layers.core.Activation object at 0xd22787da0>\n",
      "93 : conv2d_27, <keras.layers.convolutional.Conv2D object at 0xd225147f0>\n",
      "94 : conv2d_30, <keras.layers.convolutional.Conv2D object at 0xd2281d710>\n",
      "95 : batch_normalization_27, <keras.layers.normalization.BatchNormalization object at 0xd22543a20>\n",
      "96 : batch_normalization_30, <keras.layers.normalization.BatchNormalization object at 0xd2281d7f0>\n",
      "97 : activation_27, <keras.layers.core.Activation object at 0xd225966d8>\n",
      "98 : activation_30, <keras.layers.core.Activation object at 0xd228a07f0>\n",
      "99 : max_pooling2d_3, <keras.layers.pooling.MaxPooling2D object at 0xd22939e10>\n",
      "100 : mixed3, <keras.layers.merge.Concatenate object at 0xd228faf60>\n",
      "101 : conv2d_35, <keras.layers.convolutional.Conv2D object at 0xd22d1fc18>\n",
      "102 : batch_normalization_35, <keras.layers.normalization.BatchNormalization object at 0xd22d1fcf8>\n",
      "103 : activation_35, <keras.layers.core.Activation object at 0xd22dbf080>\n",
      "104 : conv2d_36, <keras.layers.convolutional.Conv2D object at 0xd22e276d8>\n"
     ]
    },
    {
     "name": "stdout",
     "output_type": "stream",
     "text": [
      "105 : batch_normalization_36, <keras.layers.normalization.BatchNormalization object at 0xd22d97dd8>\n",
      "106 : activation_36, <keras.layers.core.Activation object at 0xd22eab4a8>\n",
      "107 : conv2d_32, <keras.layers.convolutional.Conv2D object at 0xd22a63d68>\n",
      "108 : conv2d_37, <keras.layers.convolutional.Conv2D object at 0xd22f46c50>\n",
      "109 : batch_normalization_32, <keras.layers.normalization.BatchNormalization object at 0xd22a15710>\n",
      "110 : batch_normalization_37, <keras.layers.normalization.BatchNormalization object at 0xd22f0add8>\n",
      "111 : activation_32, <keras.layers.core.Activation object at 0xd22a8de80>\n",
      "112 : activation_37, <keras.layers.core.Activation object at 0xd22fbc0b8>\n",
      "113 : conv2d_33, <keras.layers.convolutional.Conv2D object at 0xd22b23978>\n",
      "114 : conv2d_38, <keras.layers.convolutional.Conv2D object at 0xd23023a20>\n",
      "115 : batch_normalization_33, <keras.layers.normalization.BatchNormalization object at 0xd22abc438>\n",
      "116 : batch_normalization_38, <keras.layers.normalization.BatchNormalization object at 0xd23023b00>\n",
      "117 : activation_33, <keras.layers.core.Activation object at 0xd22ba2908>\n",
      "118 : activation_38, <keras.layers.core.Activation object at 0xd2309fa58>\n",
      "119 : average_pooling2d_4, <keras.layers.pooling.AveragePooling2D object at 0xd23268cc0>\n",
      "120 : conv2d_31, <keras.layers.convolutional.Conv2D object at 0xd228fac50>\n",
      "121 : conv2d_34, <keras.layers.convolutional.Conv2D object at 0xd22c46358>\n",
      "122 : conv2d_39, <keras.layers.convolutional.Conv2D object at 0xd23142518>\n",
      "123 : conv2d_40, <keras.layers.convolutional.Conv2D object at 0xd23210e80>\n",
      "124 : batch_normalization_31, <keras.layers.normalization.BatchNormalization object at 0xd229529b0>\n",
      "125 : batch_normalization_34, <keras.layers.normalization.BatchNormalization object at 0xd22c03e10>\n",
      "126 : batch_normalization_39, <keras.layers.normalization.BatchNormalization object at 0xd23103fd0>\n",
      "127 : batch_normalization_40, <keras.layers.normalization.BatchNormalization object at 0xd2324beb8>\n",
      "128 : activation_31, <keras.layers.core.Activation object at 0xd229ad1d0>\n",
      "129 : activation_34, <keras.layers.core.Activation object at 0xd22cae358>\n",
      "130 : activation_39, <keras.layers.core.Activation object at 0xd231b04a8>\n",
      "131 : activation_40, <keras.layers.core.Activation object at 0xd232c3470>\n",
      "132 : mixed4, <keras.layers.merge.Concatenate object at 0xd2332ba20>\n",
      "133 : conv2d_45, <keras.layers.convolutional.Conv2D object at 0xd23752518>\n",
      "134 : batch_normalization_45, <keras.layers.normalization.BatchNormalization object at 0xd23716fd0>\n",
      "135 : activation_45, <keras.layers.core.Activation object at 0xd23795d30>\n",
      "136 : conv2d_46, <keras.layers.convolutional.Conv2D object at 0xd237c0518>\n",
      "137 : batch_normalization_46, <keras.layers.normalization.BatchNormalization object at 0xd2387edd8>\n",
      "138 : activation_46, <keras.layers.core.Activation object at 0xd238aadd8>\n",
      "139 : conv2d_42, <keras.layers.convolutional.Conv2D object at 0xd23448630>\n",
      "140 : conv2d_47, <keras.layers.convolutional.Conv2D object at 0xd2393d748>\n",
      "141 : batch_normalization_42, <keras.layers.normalization.BatchNormalization object at 0xd23448710>\n",
      "142 : batch_normalization_47, <keras.layers.normalization.BatchNormalization object at 0xd2393d828>\n",
      "143 : activation_42, <keras.layers.core.Activation object at 0xd23485ac8>\n",
      "144 : activation_47, <keras.layers.core.Activation object at 0xd239b8898>\n",
      "145 : conv2d_43, <keras.layers.convolutional.Conv2D object at 0xd234b87b8>\n",
      "146 : conv2d_48, <keras.layers.convolutional.Conv2D object at 0xd23a1eb00>\n",
      "147 : batch_normalization_43, <keras.layers.normalization.BatchNormalization object at 0xd23518fd0>\n",
      "148 : batch_normalization_48, <keras.layers.normalization.BatchNormalization object at 0xd23a1ef98>\n",
      "149 : activation_43, <keras.layers.core.Activation object at 0xd235cc0b8>\n",
      "150 : activation_48, <keras.layers.core.Activation object at 0xd23acd320>\n",
      "151 : average_pooling2d_5, <keras.layers.pooling.AveragePooling2D object at 0xd23c17f28>\n",
      "152 : conv2d_41, <keras.layers.convolutional.Conv2D object at 0xd2332bb00>\n",
      "153 : conv2d_44, <keras.layers.convolutional.Conv2D object at 0xd236329e8>\n",
      "154 : conv2d_49, <keras.layers.convolutional.Conv2D object at 0xd23b34be0>\n",
      "155 : conv2d_50, <keras.layers.convolutional.Conv2D object at 0xd23c414a8>\n",
      "156 : batch_normalization_41, <keras.layers.normalization.BatchNormalization object at 0xd2332b908>\n",
      "157 : batch_normalization_44, <keras.layers.normalization.BatchNormalization object at 0xd23632ac8>\n",
      "158 : batch_normalization_49, <keras.layers.normalization.BatchNormalization object at 0xd23b34cc0>\n",
      "159 : batch_normalization_50, <keras.layers.normalization.BatchNormalization object at 0xd23cdfef0>\n",
      "160 : activation_41, <keras.layers.core.Activation object at 0xd233a5978>\n",
      "161 : activation_44, <keras.layers.core.Activation object at 0xd236b0a20>\n",
      "162 : activation_49, <keras.layers.core.Activation object at 0xd23baecc0>\n",
      "163 : activation_50, <keras.layers.core.Activation object at 0xd23cc5860>\n",
      "164 : mixed5, <keras.layers.merge.Concatenate object at 0xd23d24cc0>\n",
      "165 : conv2d_55, <keras.layers.convolutional.Conv2D object at 0xd241d5ba8>\n",
      "166 : batch_normalization_55, <keras.layers.normalization.BatchNormalization object at 0xd241d5c88>\n",
      "167 : activation_55, <keras.layers.core.Activation object at 0xd242e5668>\n",
      "168 : conv2d_56, <keras.layers.convolutional.Conv2D object at 0xd2424ed30>\n",
      "169 : batch_normalization_56, <keras.layers.normalization.BatchNormalization object at 0xd2424ed68>\n",
      "170 : activation_56, <keras.layers.core.Activation object at 0xd2436c4a8>\n",
      "171 : conv2d_52, <keras.layers.convolutional.Conv2D object at 0xd23f17fd0>\n",
      "172 : conv2d_57, <keras.layers.convolutional.Conv2D object at 0xd24420d30>\n",
      "173 : batch_normalization_52, <keras.layers.normalization.BatchNormalization object at 0xd23ecde10>\n",
      "174 : batch_normalization_57, <keras.layers.normalization.BatchNormalization object at 0xd243caac8>\n",
      "175 : activation_52, <keras.layers.core.Activation object at 0xd23f75208>\n",
      "176 : activation_57, <keras.layers.core.Activation object at 0xd2447c400>\n",
      "177 : conv2d_53, <keras.layers.convolutional.Conv2D object at 0xd23fdc860>\n",
      "178 : conv2d_58, <keras.layers.convolutional.Conv2D object at 0xd244e3908>\n",
      "179 : batch_normalization_53, <keras.layers.normalization.BatchNormalization object at 0xd23f49c88>\n",
      "180 : batch_normalization_58, <keras.layers.normalization.BatchNormalization object at 0xd244e39e8>\n",
      "181 : activation_53, <keras.layers.core.Activation object at 0xd24060860>\n",
      "182 : activation_58, <keras.layers.core.Activation object at 0xd245619e8>\n",
      "183 : average_pooling2d_6, <keras.layers.pooling.AveragePooling2D object at 0xd24727fd0>\n",
      "184 : conv2d_51, <keras.layers.convolutional.Conv2D object at 0xd23d24c88>\n",
      "185 : conv2d_54, <keras.layers.convolutional.Conv2D object at 0xd240c0ac8>\n",
      "186 : conv2d_59, <keras.layers.convolutional.Conv2D object at 0xd246004e0>\n",
      "187 : conv2d_60, <keras.layers.convolutional.Conv2D object at 0xd246d2e10>\n",
      "188 : batch_normalization_51, <keras.layers.normalization.BatchNormalization object at 0xd23d7cd68>\n",
      "189 : batch_normalization_54, <keras.layers.normalization.BatchNormalization object at 0xd240c0f60>\n",
      "190 : batch_normalization_59, <keras.layers.normalization.BatchNormalization object at 0xd245c1f98>\n",
      "191 : batch_normalization_60, <keras.layers.normalization.BatchNormalization object at 0xd2470ee10>\n",
      "192 : activation_51, <keras.layers.core.Activation object at 0xd23e696d8>\n",
      "193 : activation_54, <keras.layers.core.Activation object at 0xd241702e8>\n",
      "194 : activation_59, <keras.layers.core.Activation object at 0xd2466b4e0>\n",
      "195 : activation_60, <keras.layers.core.Activation object at 0xd247832e8>\n",
      "196 : mixed6, <keras.layers.merge.Concatenate object at 0xd247ec9b0>\n",
      "197 : conv2d_65, <keras.layers.convolutional.Conv2D object at 0xd24c134a8>\n",
      "198 : batch_normalization_65, <keras.layers.normalization.BatchNormalization object at 0xd24bd1f60>\n",
      "199 : activation_65, <keras.layers.core.Activation object at 0xd24c56cc0>\n",
      "200 : conv2d_66, <keras.layers.convolutional.Conv2D object at 0xd24c7e4a8>\n",
      "201 : batch_normalization_66, <keras.layers.normalization.BatchNormalization object at 0xd24ce1be0>\n",
      "202 : activation_66, <keras.layers.core.Activation object at 0xd24d6ad68>\n",
      "203 : conv2d_62, <keras.layers.convolutional.Conv2D object at 0xd24869f98>\n",
      "204 : conv2d_67, <keras.layers.convolutional.Conv2D object at 0xd24dfb6d8>\n"
     ]
    },
    {
     "name": "stdout",
     "output_type": "stream",
     "text": [
      "205 : batch_normalization_62, <keras.layers.normalization.BatchNormalization object at 0xd24906ac8>\n",
      "206 : batch_normalization_67, <keras.layers.normalization.BatchNormalization object at 0xd24dfb7b8>\n",
      "207 : activation_62, <keras.layers.core.Activation object at 0xd24946be0>\n",
      "208 : activation_67, <keras.layers.core.Activation object at 0xd24e7c828>\n",
      "209 : conv2d_63, <keras.layers.convolutional.Conv2D object at 0xd24977748>\n",
      "210 : conv2d_68, <keras.layers.convolutional.Conv2D object at 0xd24f1ce80>\n",
      "211 : batch_normalization_63, <keras.layers.normalization.BatchNormalization object at 0xd24a32da0>\n",
      "212 : batch_normalization_68, <keras.layers.normalization.BatchNormalization object at 0xd24edda90>\n",
      "213 : activation_63, <keras.layers.core.Activation object at 0xd24a8e358>\n",
      "214 : activation_68, <keras.layers.core.Activation object at 0xd24f8f2b0>\n",
      "215 : average_pooling2d_7, <keras.layers.pooling.AveragePooling2D object at 0xd250d7eb8>\n",
      "216 : conv2d_61, <keras.layers.convolutional.Conv2D object at 0xd247ec898>\n",
      "217 : conv2d_64, <keras.layers.convolutional.Conv2D object at 0xd24af2978>\n",
      "218 : conv2d_69, <keras.layers.convolutional.Conv2D object at 0xd24ff3b70>\n",
      "219 : conv2d_70, <keras.layers.convolutional.Conv2D object at 0xd25104438>\n",
      "220 : batch_normalization_61, <keras.layers.normalization.BatchNormalization object at 0xd248178d0>\n",
      "221 : batch_normalization_64, <keras.layers.normalization.BatchNormalization object at 0xd24af2a58>\n",
      "222 : batch_normalization_69, <keras.layers.normalization.BatchNormalization object at 0xd24ff3c50>\n",
      "223 : batch_normalization_70, <keras.layers.normalization.BatchNormalization object at 0xd2519be80>\n",
      "224 : activation_61, <keras.layers.core.Activation object at 0xd248c8fd0>\n",
      "225 : activation_64, <keras.layers.core.Activation object at 0xd24b719b0>\n",
      "226 : activation_69, <keras.layers.core.Activation object at 0xd25072a20>\n",
      "227 : activation_70, <keras.layers.core.Activation object at 0xd251867f0>\n",
      "228 : mixed7, <keras.layers.merge.Concatenate object at 0xd251e5c50>\n",
      "229 : conv2d_73, <keras.layers.convolutional.Conv2D object at 0xd2540d7b8>\n",
      "230 : batch_normalization_73, <keras.layers.normalization.BatchNormalization object at 0xd2540d898>\n",
      "231 : activation_73, <keras.layers.core.Activation object at 0xd25438ac8>\n",
      "232 : conv2d_74, <keras.layers.convolutional.Conv2D object at 0xd2552ce10>\n",
      "233 : batch_normalization_74, <keras.layers.normalization.BatchNormalization object at 0xd25488080>\n",
      "234 : activation_74, <keras.layers.core.Activation object at 0xd255a1278>\n",
      "235 : conv2d_71, <keras.layers.convolutional.Conv2D object at 0xd251e5fd0>\n",
      "236 : conv2d_75, <keras.layers.convolutional.Conv2D object at 0xd25607b38>\n",
      "237 : batch_normalization_71, <keras.layers.normalization.BatchNormalization object at 0xd25239080>\n",
      "238 : batch_normalization_75, <keras.layers.normalization.BatchNormalization object at 0xd25607c18>\n",
      "239 : activation_71, <keras.layers.core.Activation object at 0xd25299198>\n",
      "240 : activation_75, <keras.layers.core.Activation object at 0xd256879e8>\n",
      "241 : conv2d_72, <keras.layers.convolutional.Conv2D object at 0xd25349e80>\n",
      "242 : conv2d_76, <keras.layers.convolutional.Conv2D object at 0xd256e9e80>\n",
      "243 : batch_normalization_72, <keras.layers.normalization.BatchNormalization object at 0xd252fcd30>\n",
      "244 : batch_normalization_76, <keras.layers.normalization.BatchNormalization object at 0xd25713a20>\n",
      "245 : activation_72, <keras.layers.core.Activation object at 0xd25376e80>\n",
      "246 : activation_76, <keras.layers.core.Activation object at 0xd25795438>\n",
      "247 : max_pooling2d_4, <keras.layers.pooling.MaxPooling2D object at 0xd257f5d68>\n",
      "248 : mixed8, <keras.layers.merge.Concatenate object at 0xd257f5ef0>\n",
      "249 : conv2d_81, <keras.layers.convolutional.Conv2D object at 0xd25bb54a8>\n",
      "250 : batch_normalization_81, <keras.layers.normalization.BatchNormalization object at 0xd25c46cc0>\n",
      "251 : activation_81, <keras.layers.core.Activation object at 0xd25cb9eb8>\n",
      "252 : conv2d_78, <keras.layers.convolutional.Conv2D object at 0xd2595bdd8>\n",
      "253 : conv2d_82, <keras.layers.convolutional.Conv2D object at 0xd25d3a5f8>\n",
      "254 : batch_normalization_78, <keras.layers.normalization.BatchNormalization object at 0xd2590e5c0>\n",
      "255 : batch_normalization_82, <keras.layers.normalization.BatchNormalization object at 0xd25c96d68>\n",
      "256 : activation_78, <keras.layers.core.Activation object at 0xd259b2128>\n",
      "257 : activation_82, <keras.layers.core.Activation object at 0xd25daa470>\n",
      "258 : conv2d_79, <keras.layers.convolutional.Conv2D object at 0xd25a1d780>\n",
      "259 : conv2d_80, <keras.layers.convolutional.Conv2D object at 0xd25b3fcf8>\n",
      "260 : conv2d_83, <keras.layers.convolutional.Conv2D object at 0xd25e62cf8>\n",
      "261 : conv2d_84, <keras.layers.convolutional.Conv2D object at 0xd25f258d0>\n",
      "262 : average_pooling2d_8, <keras.layers.pooling.AveragePooling2D object at 0xd25fa2dd8>\n",
      "263 : conv2d_77, <keras.layers.convolutional.Conv2D object at 0xd258b9e10>\n",
      "264 : batch_normalization_79, <keras.layers.normalization.BatchNormalization object at 0xd25986f60>\n",
      "265 : batch_normalization_80, <keras.layers.normalization.BatchNormalization object at 0xd25b02be0>\n",
      "266 : batch_normalization_83, <keras.layers.normalization.BatchNormalization object at 0xd25e0fe80>\n",
      "267 : batch_normalization_84, <keras.layers.normalization.BatchNormalization object at 0xd25f259b0>\n",
      "268 : conv2d_85, <keras.layers.convolutional.Conv2D object at 0xd26061588>\n",
      "269 : batch_normalization_77, <keras.layers.normalization.BatchNormalization object at 0xd25830fd0>\n",
      "270 : activation_79, <keras.layers.core.Activation object at 0xd25a9f780>\n",
      "271 : activation_80, <keras.layers.core.Activation object at 0xd25bc4e10>\n",
      "272 : activation_83, <keras.layers.core.Activation object at 0xd25e93da0>\n",
      "273 : activation_84, <keras.layers.core.Activation object at 0xd25fc5f28>\n",
      "274 : batch_normalization_85, <keras.layers.normalization.BatchNormalization object at 0xd26061b00>\n",
      "275 : activation_77, <keras.layers.core.Activation object at 0xd258a74a8>\n",
      "276 : mixed9_0, <keras.layers.merge.Concatenate object at 0xd25c18b00>\n",
      "277 : concatenate_1, <keras.layers.merge.Concatenate object at 0xd26049390>\n",
      "278 : activation_85, <keras.layers.core.Activation object at 0xd260b4748>\n",
      "279 : mixed9, <keras.layers.merge.Concatenate object at 0xd26152c50>\n",
      "280 : conv2d_90, <keras.layers.convolutional.Conv2D object at 0xd264e5cc0>\n",
      "281 : batch_normalization_90, <keras.layers.normalization.BatchNormalization object at 0xd26568b70>\n",
      "282 : activation_90, <keras.layers.core.Activation object at 0xd265dad68>\n",
      "283 : conv2d_87, <keras.layers.convolutional.Conv2D object at 0xd26232be0>\n",
      "284 : conv2d_91, <keras.layers.convolutional.Conv2D object at 0xd2665a4a8>\n",
      "285 : batch_normalization_87, <keras.layers.normalization.BatchNormalization object at 0xd26232cc0>\n",
      "286 : batch_normalization_91, <keras.layers.normalization.BatchNormalization object at 0xd265b8240>\n",
      "287 : activation_87, <keras.layers.core.Activation object at 0xd262d4048>\n",
      "288 : activation_91, <keras.layers.core.Activation object at 0xd266ca4e0>\n",
      "289 : conv2d_88, <keras.layers.convolutional.Conv2D object at 0xd2633e6a0>\n",
      "290 : conv2d_89, <keras.layers.convolutional.Conv2D object at 0xd2645dc50>\n",
      "291 : conv2d_92, <keras.layers.convolutional.Conv2D object at 0xd26787fd0>\n",
      "292 : conv2d_93, <keras.layers.convolutional.Conv2D object at 0xd26848828>\n",
      "293 : average_pooling2d_9, <keras.layers.pooling.AveragePooling2D object at 0xd269fae10>\n",
      "294 : conv2d_86, <keras.layers.convolutional.Conv2D object at 0xd2611fe80>\n",
      "295 : batch_normalization_88, <keras.layers.normalization.BatchNormalization object at 0xd262a8da0>\n",
      "296 : batch_normalization_89, <keras.layers.normalization.BatchNormalization object at 0xd26422dd8>\n",
      "297 : batch_normalization_92, <keras.layers.normalization.BatchNormalization object at 0xd2672eda0>\n",
      "298 : batch_normalization_93, <keras.layers.normalization.BatchNormalization object at 0xd26848908>\n",
      "299 : conv2d_94, <keras.layers.convolutional.Conv2D object at 0xd268c7940>\n",
      "300 : batch_normalization_86, <keras.layers.normalization.BatchNormalization object at 0xd2611ffd0>\n",
      "301 : activation_88, <keras.layers.core.Activation object at 0xd263c14a8>\n",
      "302 : activation_89, <keras.layers.core.Activation object at 0xd264a3eb8>\n",
      "303 : activation_92, <keras.layers.core.Activation object at 0xd267b3ef0>\n",
      "304 : activation_93, <keras.layers.core.Activation object at 0xd26876b00>\n",
      "305 : batch_normalization_94, <keras.layers.normalization.BatchNormalization object at 0xd26a12470>\n",
      "306 : activation_86, <keras.layers.core.Activation object at 0xd261cb4a8>\n",
      "307 : mixed9_1, <keras.layers.merge.Concatenate object at 0xd265399b0>\n",
      "308 : concatenate_2, <keras.layers.merge.Concatenate object at 0xd26977c88>\n",
      "309 : activation_94, <keras.layers.core.Activation object at 0xd26a6d630>\n",
      "310 : mixed10, <keras.layers.merge.Concatenate object at 0xd26b21cc0>\n",
      "311 : avg_pool, <keras.layers.pooling.GlobalAveragePooling2D object at 0xd26ad3ef0>\n",
      "312 : predictions, <keras.layers.core.Dense object at 0xd26ad3e80>\n"
     ]
    },
    {
     "name": "stdout",
     "output_type": "stream",
     "text": [
      "313 : predictions__activation__, <keras.layers.core.Activation object at 0xb206408d0>\n"
     ]
    }
   ],
   "source": [
    "# Convert the loaded Keras model into a CoreML Model\n",
    "# Provide image_input_names to specify it is an image model\n",
    "# also provide the bias values specified by the model\n",
    "mlmodel = coremltools.converters.keras.convert(model, \n",
    "                                               input_names=['image'], \n",
    "                                               image_input_names=['image'],\n",
    "                                               output_names=['classLabelProbs'],\n",
    "                                               class_labels='labels.txt', \n",
    "                                               blue_bias=-1,\n",
    "                                               green_bias=-1,\n",
    "                                               red_bias=-1,\n",
    "                                               image_scale=2./255)"
   ]
  },
  {
   "cell_type": "markdown",
   "metadata": {},
   "source": [
    "### Save the model as a .mlmodel file which can be deployed"
   ]
  },
  {
   "cell_type": "code",
   "execution_count": 4,
   "metadata": {},
   "outputs": [],
   "source": [
    "mlmodel.save('ModelZoo/IncpetionV3.mlmodel')"
   ]
  },
  {
   "cell_type": "markdown",
   "metadata": {},
   "source": [
    "### Now extract the model using the TensorFlow session to convert it for Android"
   ]
  },
  {
   "cell_type": "code",
   "execution_count": 5,
   "metadata": {},
   "outputs": [
    {
     "name": "stdout",
     "output_type": "stream",
     "text": [
      "INFO:tensorflow:Froze 378 variables.\n"
     ]
    },
    {
     "name": "stderr",
     "output_type": "stream",
     "text": [
      "INFO:tensorflow:Froze 378 variables.\n"
     ]
    },
    {
     "name": "stdout",
     "output_type": "stream",
     "text": [
      "INFO:tensorflow:Converted 378 variables to const ops.\n"
     ]
    },
    {
     "name": "stderr",
     "output_type": "stream",
     "text": [
      "INFO:tensorflow:Converted 378 variables to const ops.\n"
     ]
    },
    {
     "data": {
      "text/plain": [
       "'ModelZoo/InceptionV3.pb'"
      ]
     },
     "execution_count": 5,
     "metadata": {},
     "output_type": "execute_result"
    }
   ],
   "source": [
    "S = K.get_session()\n",
    "constant_graph = graph_util.convert_variables_to_constants(S, \n",
    "                                                           S.graph.as_graph_def(),\n",
    "                                                           ['predictions/Softmax'])\n",
    "graph_io.write_graph(constant_graph, 'ModelZoo/', 'InceptionV3.pb', as_text=False)"
   ]
  },
  {
   "cell_type": "markdown",
   "metadata": {},
   "source": [
    "### To convert the model for TensorFlow Lite"
   ]
  },
  {
   "cell_type": "code",
   "execution_count": 6,
   "metadata": {},
   "outputs": [
    {
     "name": "stdout",
     "output_type": "stream",
     "text": [
      "WARNING:tensorflow:No training configuration found in save file: the model was *not* compiled. Compile it manually.\n"
     ]
    },
    {
     "name": "stderr",
     "output_type": "stream",
     "text": [
      "WARNING:tensorflow:No training configuration found in save file: the model was *not* compiled. Compile it manually.\n"
     ]
    },
    {
     "name": "stdout",
     "output_type": "stream",
     "text": [
      "INFO:tensorflow:Froze 378 variables.\n"
     ]
    },
    {
     "name": "stderr",
     "output_type": "stream",
     "text": [
      "INFO:tensorflow:Froze 378 variables.\n"
     ]
    },
    {
     "name": "stdout",
     "output_type": "stream",
     "text": [
      "INFO:tensorflow:Converted 378 variables to const ops.\n"
     ]
    },
    {
     "name": "stderr",
     "output_type": "stream",
     "text": [
      "INFO:tensorflow:Converted 378 variables to const ops.\n"
     ]
    },
    {
     "data": {
      "text/plain": [
       "95306148"
      ]
     },
     "execution_count": 6,
     "metadata": {},
     "output_type": "execute_result"
    }
   ],
   "source": [
    "# To convert the model for tensorflow lite, we can save the keras model\n",
    "# and then convert it into a TensorFlow lite model directly\n",
    "\n",
    "input_tensor = tf.keras.layers.Input(shape=(299,299,3))\n",
    "model = tf.keras.applications.inception_v3.InceptionV3(\n",
    "    weights='imagenet', input_tensor=input_tensor, include_top=True\n",
    ")\n",
    "\n",
    "keras_file = 'ModelZoo/InceptionV3.h5'\n",
    "tf.keras.models.save_model(model, keras_file)\n",
    "\n",
    "converter = tf.contrib.lite.TFLiteConverter.from_keras_model_file(keras_file)\n",
    "tflite_model = converter.convert()\n",
    "open('ModelZoo/'+'InceptionV3.tflite', 'wb').write(tflite_model)"
   ]
  },
  {
   "cell_type": "markdown",
   "metadata": {},
   "source": [
    "### Now load the model and get the details of the converted model\n",
    "### These are useful when deploying the models on Android"
   ]
  },
  {
   "cell_type": "code",
   "execution_count": 7,
   "metadata": {},
   "outputs": [
    {
     "name": "stdout",
     "output_type": "stream",
     "text": [
      "[{'name': 'input_1', 'index': 295, 'shape': array([  1, 299, 299,   3], dtype=int32), 'dtype': <class 'numpy.float32'>, 'quantization': (0.0, 0)}] [{'name': 'predictions/Softmax', 'index': 315, 'shape': array([   1, 1000], dtype=int32), 'dtype': <class 'numpy.float32'>, 'quantization': (0.0, 0)}]\n"
     ]
    }
   ],
   "source": [
    "interpreter = tf.contrib.lite.Interpreter(model_path='ModelZoo/InceptionV3.tflite')\n",
    "\n",
    "interpreter.allocate_tensors()\n",
    "\n",
    "input_details = interpreter.get_input_details()\n",
    "output_details = interpreter.get_output_details()\n",
    "print(input_details, output_details)"
   ]
  },
  {
   "cell_type": "code",
   "execution_count": null,
   "metadata": {},
   "outputs": [],
   "source": []
  }
 ],
 "metadata": {
  "kernelspec": {
   "display_name": "Python 3",
   "language": "python",
   "name": "python3"
  },
  "language_info": {
   "codemirror_mode": {
    "name": "ipython",
    "version": 3
   },
   "file_extension": ".py",
   "mimetype": "text/x-python",
   "name": "python",
   "nbconvert_exporter": "python",
   "pygments_lexer": "ipython3",
   "version": "3.6.6"
  }
 },
 "nbformat": 4,
 "nbformat_minor": 2
}
